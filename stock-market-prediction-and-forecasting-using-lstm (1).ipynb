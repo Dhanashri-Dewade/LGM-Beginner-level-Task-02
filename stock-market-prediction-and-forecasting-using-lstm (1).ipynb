{
 "cells": [
  {
   "cell_type": "markdown",
   "metadata": {},
   "source": [
    "## Name:- Dhanashri Narayan Dewade"
   ]
  },
  {
   "cell_type": "markdown",
   "metadata": {},
   "source": [
    "## @LetsGrowMore Internship"
   ]
  },
  {
   "cell_type": "markdown",
   "metadata": {},
   "source": [
    "## Task 2 - Stock Market Prediction And Forecasting Using Stacked LSTM\n"
   ]
  },
  {
   "cell_type": "code",
   "execution_count": 1,
   "metadata": {
    "execution": {
     "iopub.execute_input": "2023-02-21T08:08:06.396088Z",
     "iopub.status.busy": "2023-02-21T08:08:06.395163Z",
     "iopub.status.idle": "2023-02-21T08:08:07.408471Z",
     "shell.execute_reply": "2023-02-21T08:08:07.407557Z",
     "shell.execute_reply.started": "2023-02-21T08:08:06.395984Z"
    }
   },
   "outputs": [],
   "source": [
    "import pandas as pd\n",
    "import numpy as np\n",
    "import seaborn as sns\n",
    "import matplotlib.pyplot as plt\n",
    "%matplotlib inline"
   ]
  },
  {
   "cell_type": "code",
   "execution_count": 2,
   "metadata": {
    "execution": {
     "iopub.execute_input": "2023-02-21T08:08:07.410279Z",
     "iopub.status.busy": "2023-02-21T08:08:07.410023Z",
     "iopub.status.idle": "2023-02-21T08:08:07.635161Z",
     "shell.execute_reply": "2023-02-21T08:08:07.634499Z",
     "shell.execute_reply.started": "2023-02-21T08:08:07.410247Z"
    }
   },
   "outputs": [
    {
     "data": {
      "text/html": [
       "<div>\n",
       "<style scoped>\n",
       "    .dataframe tbody tr th:only-of-type {\n",
       "        vertical-align: middle;\n",
       "    }\n",
       "\n",
       "    .dataframe tbody tr th {\n",
       "        vertical-align: top;\n",
       "    }\n",
       "\n",
       "    .dataframe thead th {\n",
       "        text-align: right;\n",
       "    }\n",
       "</style>\n",
       "<table border=\"1\" class=\"dataframe\">\n",
       "  <thead>\n",
       "    <tr style=\"text-align: right;\">\n",
       "      <th></th>\n",
       "      <th>Date</th>\n",
       "      <th>Open</th>\n",
       "      <th>High</th>\n",
       "      <th>Low</th>\n",
       "      <th>Last</th>\n",
       "      <th>Close</th>\n",
       "      <th>Total Trade Quantity</th>\n",
       "      <th>Turnover (Lacs)</th>\n",
       "    </tr>\n",
       "  </thead>\n",
       "  <tbody>\n",
       "    <tr>\n",
       "      <th>2034</th>\n",
       "      <td>2010-07-21</td>\n",
       "      <td>122.1</td>\n",
       "      <td>123.00</td>\n",
       "      <td>121.05</td>\n",
       "      <td>121.10</td>\n",
       "      <td>121.55</td>\n",
       "      <td>658666</td>\n",
       "      <td>803.56</td>\n",
       "    </tr>\n",
       "    <tr>\n",
       "      <th>2033</th>\n",
       "      <td>2010-07-22</td>\n",
       "      <td>120.3</td>\n",
       "      <td>122.00</td>\n",
       "      <td>120.25</td>\n",
       "      <td>120.75</td>\n",
       "      <td>120.90</td>\n",
       "      <td>293312</td>\n",
       "      <td>355.17</td>\n",
       "    </tr>\n",
       "    <tr>\n",
       "      <th>2032</th>\n",
       "      <td>2010-07-23</td>\n",
       "      <td>121.8</td>\n",
       "      <td>121.95</td>\n",
       "      <td>120.25</td>\n",
       "      <td>120.35</td>\n",
       "      <td>120.65</td>\n",
       "      <td>281312</td>\n",
       "      <td>340.31</td>\n",
       "    </tr>\n",
       "    <tr>\n",
       "      <th>2031</th>\n",
       "      <td>2010-07-26</td>\n",
       "      <td>120.1</td>\n",
       "      <td>121.00</td>\n",
       "      <td>117.10</td>\n",
       "      <td>117.10</td>\n",
       "      <td>117.60</td>\n",
       "      <td>658440</td>\n",
       "      <td>780.01</td>\n",
       "    </tr>\n",
       "    <tr>\n",
       "      <th>2030</th>\n",
       "      <td>2010-07-27</td>\n",
       "      <td>117.6</td>\n",
       "      <td>119.50</td>\n",
       "      <td>112.00</td>\n",
       "      <td>118.80</td>\n",
       "      <td>118.65</td>\n",
       "      <td>586100</td>\n",
       "      <td>694.98</td>\n",
       "    </tr>\n",
       "  </tbody>\n",
       "</table>\n",
       "</div>"
      ],
      "text/plain": [
       "            Date   Open    High     Low    Last   Close  Total Trade Quantity  \\\n",
       "2034  2010-07-21  122.1  123.00  121.05  121.10  121.55                658666   \n",
       "2033  2010-07-22  120.3  122.00  120.25  120.75  120.90                293312   \n",
       "2032  2010-07-23  121.8  121.95  120.25  120.35  120.65                281312   \n",
       "2031  2010-07-26  120.1  121.00  117.10  117.10  117.60                658440   \n",
       "2030  2010-07-27  117.6  119.50  112.00  118.80  118.65                586100   \n",
       "\n",
       "      Turnover (Lacs)  \n",
       "2034           803.56  \n",
       "2033           355.17  \n",
       "2032           340.31  \n",
       "2031           780.01  \n",
       "2030           694.98  "
      ]
     },
     "execution_count": 2,
     "metadata": {},
     "output_type": "execute_result"
    }
   ],
   "source": [
    "df =pd.read_csv('NSE-TATAGLOBAL.csv')\n",
    "df=df.iloc[::-1]\n",
    "df.head()"
   ]
  },
  {
   "cell_type": "code",
   "execution_count": 3,
   "metadata": {
    "execution": {
     "iopub.execute_input": "2023-02-21T08:08:07.636743Z",
     "iopub.status.busy": "2023-02-21T08:08:07.636191Z",
     "iopub.status.idle": "2023-02-21T08:08:07.653148Z",
     "shell.execute_reply": "2023-02-21T08:08:07.652130Z",
     "shell.execute_reply.started": "2023-02-21T08:08:07.636710Z"
    }
   },
   "outputs": [
    {
     "data": {
      "text/html": [
       "<div>\n",
       "<style scoped>\n",
       "    .dataframe tbody tr th:only-of-type {\n",
       "        vertical-align: middle;\n",
       "    }\n",
       "\n",
       "    .dataframe tbody tr th {\n",
       "        vertical-align: top;\n",
       "    }\n",
       "\n",
       "    .dataframe thead th {\n",
       "        text-align: right;\n",
       "    }\n",
       "</style>\n",
       "<table border=\"1\" class=\"dataframe\">\n",
       "  <thead>\n",
       "    <tr style=\"text-align: right;\">\n",
       "      <th></th>\n",
       "      <th>Date</th>\n",
       "      <th>Open</th>\n",
       "      <th>High</th>\n",
       "      <th>Low</th>\n",
       "      <th>Last</th>\n",
       "      <th>Close</th>\n",
       "      <th>Total Trade Quantity</th>\n",
       "      <th>Turnover (Lacs)</th>\n",
       "    </tr>\n",
       "  </thead>\n",
       "  <tbody>\n",
       "    <tr>\n",
       "      <th>4</th>\n",
       "      <td>2018-09-24</td>\n",
       "      <td>233.55</td>\n",
       "      <td>239.20</td>\n",
       "      <td>230.75</td>\n",
       "      <td>234.00</td>\n",
       "      <td>233.30</td>\n",
       "      <td>3423509</td>\n",
       "      <td>7999.55</td>\n",
       "    </tr>\n",
       "    <tr>\n",
       "      <th>3</th>\n",
       "      <td>2018-09-25</td>\n",
       "      <td>233.30</td>\n",
       "      <td>236.75</td>\n",
       "      <td>232.00</td>\n",
       "      <td>236.25</td>\n",
       "      <td>236.10</td>\n",
       "      <td>2349368</td>\n",
       "      <td>5503.90</td>\n",
       "    </tr>\n",
       "    <tr>\n",
       "      <th>2</th>\n",
       "      <td>2018-09-26</td>\n",
       "      <td>240.00</td>\n",
       "      <td>240.00</td>\n",
       "      <td>232.50</td>\n",
       "      <td>235.00</td>\n",
       "      <td>234.25</td>\n",
       "      <td>2240909</td>\n",
       "      <td>5248.60</td>\n",
       "    </tr>\n",
       "    <tr>\n",
       "      <th>1</th>\n",
       "      <td>2018-09-27</td>\n",
       "      <td>234.55</td>\n",
       "      <td>236.80</td>\n",
       "      <td>231.10</td>\n",
       "      <td>233.80</td>\n",
       "      <td>233.25</td>\n",
       "      <td>5082859</td>\n",
       "      <td>11859.95</td>\n",
       "    </tr>\n",
       "    <tr>\n",
       "      <th>0</th>\n",
       "      <td>2018-09-28</td>\n",
       "      <td>234.05</td>\n",
       "      <td>235.95</td>\n",
       "      <td>230.20</td>\n",
       "      <td>233.50</td>\n",
       "      <td>233.75</td>\n",
       "      <td>3069914</td>\n",
       "      <td>7162.35</td>\n",
       "    </tr>\n",
       "  </tbody>\n",
       "</table>\n",
       "</div>"
      ],
      "text/plain": [
       "         Date    Open    High     Low    Last   Close  Total Trade Quantity  \\\n",
       "4  2018-09-24  233.55  239.20  230.75  234.00  233.30               3423509   \n",
       "3  2018-09-25  233.30  236.75  232.00  236.25  236.10               2349368   \n",
       "2  2018-09-26  240.00  240.00  232.50  235.00  234.25               2240909   \n",
       "1  2018-09-27  234.55  236.80  231.10  233.80  233.25               5082859   \n",
       "0  2018-09-28  234.05  235.95  230.20  233.50  233.75               3069914   \n",
       "\n",
       "   Turnover (Lacs)  \n",
       "4          7999.55  \n",
       "3          5503.90  \n",
       "2          5248.60  \n",
       "1         11859.95  \n",
       "0          7162.35  "
      ]
     },
     "execution_count": 3,
     "metadata": {},
     "output_type": "execute_result"
    }
   ],
   "source": [
    "df.tail()"
   ]
  },
  {
   "cell_type": "code",
   "execution_count": 4,
   "metadata": {
    "execution": {
     "iopub.execute_input": "2023-02-21T08:08:07.655430Z",
     "iopub.status.busy": "2023-02-21T08:08:07.655112Z",
     "iopub.status.idle": "2023-02-21T08:08:07.663922Z",
     "shell.execute_reply": "2023-02-21T08:08:07.663098Z",
     "shell.execute_reply.started": "2023-02-21T08:08:07.655398Z"
    }
   },
   "outputs": [
    {
     "data": {
      "text/plain": [
       "(2035, 8)"
      ]
     },
     "execution_count": 4,
     "metadata": {},
     "output_type": "execute_result"
    }
   ],
   "source": [
    "df.shape"
   ]
  },
  {
   "cell_type": "code",
   "execution_count": 5,
   "metadata": {
    "execution": {
     "iopub.execute_input": "2023-02-21T08:08:07.666114Z",
     "iopub.status.busy": "2023-02-21T08:08:07.665710Z",
     "iopub.status.idle": "2023-02-21T08:08:07.675391Z",
     "shell.execute_reply": "2023-02-21T08:08:07.674224Z",
     "shell.execute_reply.started": "2023-02-21T08:08:07.666069Z"
    }
   },
   "outputs": [
    {
     "data": {
      "text/plain": [
       "Index(['Date', 'Open', 'High', 'Low', 'Last', 'Close', 'Total Trade Quantity',\n",
       "       'Turnover (Lacs)'],\n",
       "      dtype='object')"
      ]
     },
     "execution_count": 5,
     "metadata": {},
     "output_type": "execute_result"
    }
   ],
   "source": [
    "df.columns"
   ]
  },
  {
   "cell_type": "code",
   "execution_count": 6,
   "metadata": {
    "execution": {
     "iopub.execute_input": "2023-02-21T08:08:07.677222Z",
     "iopub.status.busy": "2023-02-21T08:08:07.676811Z",
     "iopub.status.idle": "2023-02-21T08:08:07.704876Z",
     "shell.execute_reply": "2023-02-21T08:08:07.703798Z",
     "shell.execute_reply.started": "2023-02-21T08:08:07.677161Z"
    }
   },
   "outputs": [
    {
     "name": "stdout",
     "output_type": "stream",
     "text": [
      "<class 'pandas.core.frame.DataFrame'>\n",
      "RangeIndex: 2035 entries, 2034 to 0\n",
      "Data columns (total 8 columns):\n",
      " #   Column                Non-Null Count  Dtype  \n",
      "---  ------                --------------  -----  \n",
      " 0   Date                  2035 non-null   object \n",
      " 1   Open                  2035 non-null   float64\n",
      " 2   High                  2035 non-null   float64\n",
      " 3   Low                   2035 non-null   float64\n",
      " 4   Last                  2035 non-null   float64\n",
      " 5   Close                 2035 non-null   float64\n",
      " 6   Total Trade Quantity  2035 non-null   int64  \n",
      " 7   Turnover (Lacs)       2035 non-null   float64\n",
      "dtypes: float64(6), int64(1), object(1)\n",
      "memory usage: 127.3+ KB\n"
     ]
    }
   ],
   "source": [
    "df.info()"
   ]
  },
  {
   "cell_type": "code",
   "execution_count": 7,
   "metadata": {
    "execution": {
     "iopub.execute_input": "2023-02-21T08:08:07.707028Z",
     "iopub.status.busy": "2023-02-21T08:08:07.706701Z",
     "iopub.status.idle": "2023-02-21T08:08:07.744260Z",
     "shell.execute_reply": "2023-02-21T08:08:07.743215Z",
     "shell.execute_reply.started": "2023-02-21T08:08:07.706985Z"
    }
   },
   "outputs": [
    {
     "data": {
      "text/html": [
       "<div>\n",
       "<style scoped>\n",
       "    .dataframe tbody tr th:only-of-type {\n",
       "        vertical-align: middle;\n",
       "    }\n",
       "\n",
       "    .dataframe tbody tr th {\n",
       "        vertical-align: top;\n",
       "    }\n",
       "\n",
       "    .dataframe thead th {\n",
       "        text-align: right;\n",
       "    }\n",
       "</style>\n",
       "<table border=\"1\" class=\"dataframe\">\n",
       "  <thead>\n",
       "    <tr style=\"text-align: right;\">\n",
       "      <th></th>\n",
       "      <th>Open</th>\n",
       "      <th>High</th>\n",
       "      <th>Low</th>\n",
       "      <th>Last</th>\n",
       "      <th>Close</th>\n",
       "      <th>Total Trade Quantity</th>\n",
       "      <th>Turnover (Lacs)</th>\n",
       "    </tr>\n",
       "  </thead>\n",
       "  <tbody>\n",
       "    <tr>\n",
       "      <th>count</th>\n",
       "      <td>2035.000000</td>\n",
       "      <td>2035.000000</td>\n",
       "      <td>2035.000000</td>\n",
       "      <td>2035.000000</td>\n",
       "      <td>2035.00000</td>\n",
       "      <td>2.035000e+03</td>\n",
       "      <td>2035.000000</td>\n",
       "    </tr>\n",
       "    <tr>\n",
       "      <th>mean</th>\n",
       "      <td>149.713735</td>\n",
       "      <td>151.992826</td>\n",
       "      <td>147.293931</td>\n",
       "      <td>149.474251</td>\n",
       "      <td>149.45027</td>\n",
       "      <td>2.335681e+06</td>\n",
       "      <td>3899.980565</td>\n",
       "    </tr>\n",
       "    <tr>\n",
       "      <th>std</th>\n",
       "      <td>48.664509</td>\n",
       "      <td>49.413109</td>\n",
       "      <td>47.931958</td>\n",
       "      <td>48.732570</td>\n",
       "      <td>48.71204</td>\n",
       "      <td>2.091778e+06</td>\n",
       "      <td>4570.767877</td>\n",
       "    </tr>\n",
       "    <tr>\n",
       "      <th>min</th>\n",
       "      <td>81.100000</td>\n",
       "      <td>82.800000</td>\n",
       "      <td>80.000000</td>\n",
       "      <td>81.000000</td>\n",
       "      <td>80.95000</td>\n",
       "      <td>3.961000e+04</td>\n",
       "      <td>37.040000</td>\n",
       "    </tr>\n",
       "    <tr>\n",
       "      <th>25%</th>\n",
       "      <td>120.025000</td>\n",
       "      <td>122.100000</td>\n",
       "      <td>118.300000</td>\n",
       "      <td>120.075000</td>\n",
       "      <td>120.05000</td>\n",
       "      <td>1.146444e+06</td>\n",
       "      <td>1427.460000</td>\n",
       "    </tr>\n",
       "    <tr>\n",
       "      <th>50%</th>\n",
       "      <td>141.500000</td>\n",
       "      <td>143.400000</td>\n",
       "      <td>139.600000</td>\n",
       "      <td>141.100000</td>\n",
       "      <td>141.25000</td>\n",
       "      <td>1.783456e+06</td>\n",
       "      <td>2512.030000</td>\n",
       "    </tr>\n",
       "    <tr>\n",
       "      <th>75%</th>\n",
       "      <td>157.175000</td>\n",
       "      <td>159.400000</td>\n",
       "      <td>155.150000</td>\n",
       "      <td>156.925000</td>\n",
       "      <td>156.90000</td>\n",
       "      <td>2.813594e+06</td>\n",
       "      <td>4539.015000</td>\n",
       "    </tr>\n",
       "    <tr>\n",
       "      <th>max</th>\n",
       "      <td>327.700000</td>\n",
       "      <td>328.750000</td>\n",
       "      <td>321.650000</td>\n",
       "      <td>325.950000</td>\n",
       "      <td>325.75000</td>\n",
       "      <td>2.919102e+07</td>\n",
       "      <td>55755.080000</td>\n",
       "    </tr>\n",
       "  </tbody>\n",
       "</table>\n",
       "</div>"
      ],
      "text/plain": [
       "              Open         High          Low         Last       Close  \\\n",
       "count  2035.000000  2035.000000  2035.000000  2035.000000  2035.00000   \n",
       "mean    149.713735   151.992826   147.293931   149.474251   149.45027   \n",
       "std      48.664509    49.413109    47.931958    48.732570    48.71204   \n",
       "min      81.100000    82.800000    80.000000    81.000000    80.95000   \n",
       "25%     120.025000   122.100000   118.300000   120.075000   120.05000   \n",
       "50%     141.500000   143.400000   139.600000   141.100000   141.25000   \n",
       "75%     157.175000   159.400000   155.150000   156.925000   156.90000   \n",
       "max     327.700000   328.750000   321.650000   325.950000   325.75000   \n",
       "\n",
       "       Total Trade Quantity  Turnover (Lacs)  \n",
       "count          2.035000e+03      2035.000000  \n",
       "mean           2.335681e+06      3899.980565  \n",
       "std            2.091778e+06      4570.767877  \n",
       "min            3.961000e+04        37.040000  \n",
       "25%            1.146444e+06      1427.460000  \n",
       "50%            1.783456e+06      2512.030000  \n",
       "75%            2.813594e+06      4539.015000  \n",
       "max            2.919102e+07     55755.080000  "
      ]
     },
     "execution_count": 7,
     "metadata": {},
     "output_type": "execute_result"
    }
   ],
   "source": [
    "df.describe()"
   ]
  },
  {
   "cell_type": "code",
   "execution_count": 8,
   "metadata": {
    "execution": {
     "iopub.execute_input": "2023-02-21T08:08:07.746065Z",
     "iopub.status.busy": "2023-02-21T08:08:07.745806Z",
     "iopub.status.idle": "2023-02-21T08:08:07.756370Z",
     "shell.execute_reply": "2023-02-21T08:08:07.755326Z",
     "shell.execute_reply.started": "2023-02-21T08:08:07.746032Z"
    }
   },
   "outputs": [
    {
     "data": {
      "text/plain": [
       "Date                    0\n",
       "Open                    0\n",
       "High                    0\n",
       "Low                     0\n",
       "Last                    0\n",
       "Close                   0\n",
       "Total Trade Quantity    0\n",
       "Turnover (Lacs)         0\n",
       "dtype: int64"
      ]
     },
     "execution_count": 8,
     "metadata": {},
     "output_type": "execute_result"
    }
   ],
   "source": [
    "#Data Preprocessing\n",
    "df.isnull().sum()"
   ]
  },
  {
   "cell_type": "code",
   "execution_count": 9,
   "metadata": {
    "execution": {
     "iopub.execute_input": "2023-02-21T08:08:07.758352Z",
     "iopub.status.busy": "2023-02-21T08:08:07.758010Z",
     "iopub.status.idle": "2023-02-21T08:08:07.774755Z",
     "shell.execute_reply": "2023-02-21T08:08:07.773774Z",
     "shell.execute_reply.started": "2023-02-21T08:08:07.758311Z"
    }
   },
   "outputs": [
    {
     "data": {
      "text/plain": [
       "False    2035\n",
       "dtype: int64"
      ]
     },
     "execution_count": 9,
     "metadata": {},
     "output_type": "execute_result"
    }
   ],
   "source": [
    "duplicates= df.duplicated()\n",
    "duplicates.value_counts() # no duplicates present"
   ]
  },
  {
   "cell_type": "code",
   "execution_count": 10,
   "metadata": {
    "execution": {
     "iopub.execute_input": "2023-02-21T08:08:07.778747Z",
     "iopub.status.busy": "2023-02-21T08:08:07.778271Z",
     "iopub.status.idle": "2023-02-21T08:08:08.378506Z",
     "shell.execute_reply": "2023-02-21T08:08:08.377518Z",
     "shell.execute_reply.started": "2023-02-21T08:08:07.778711Z"
    }
   },
   "outputs": [
    {
     "data": {
      "text/plain": [
       "<AxesSubplot:>"
      ]
     },
     "execution_count": 10,
     "metadata": {},
     "output_type": "execute_result"
    },
    {
     "data": {
      "image/png": "[encoded data removed]",
      "text/plain": [
       "<Figure size 432x432 with 2 Axes>"
      ]
     },
     "metadata": {
      "needs_background": "light"
     },
     "output_type": "display_data"
    }
   ],
   "source": [
    "plt.figure(figsize=(6,6))\n",
    "sns.heatmap(df.corr(), annot=True)"
   ]
  },
  {
   "cell_type": "code",
   "execution_count": 11,
   "metadata": {
    "execution": {
     "iopub.execute_input": "2023-02-21T08:08:08.380280Z",
     "iopub.status.busy": "2023-02-21T08:08:08.379939Z",
     "iopub.status.idle": "2023-02-21T08:08:08.585920Z",
     "shell.execute_reply": "2023-02-21T08:08:08.585061Z",
     "shell.execute_reply.started": "2023-02-21T08:08:08.380238Z"
    }
   },
   "outputs": [
    {
     "data": {
      "text/plain": [
       "[<matplotlib.lines.Line2D at 0x1f4d21c0100>]"
      ]
     },
     "execution_count": 11,
     "metadata": {},
     "output_type": "execute_result"
    },
    {
     "data": {
      "image/png": "[encoded data removed]",
      "text/plain": [
       "<Figure size 432x288 with 1 Axes>"
      ]
     },
     "metadata": {
      "needs_background": "light"
     },
     "output_type": "display_data"
    }
   ],
   "source": [
    "df_high=df.reset_index()['High']\n",
    "plt.plot(df_high)"
   ]
  },
  {
   "cell_type": "markdown",
   "metadata": {},
   "source": [
    "As LSTM are not robust to the scale of the data, so we apply MinMax Scaler to transform our values in the range of 0 and 1."
   ]
  },
  {
   "cell_type": "code",
   "execution_count": 12,
   "metadata": {
    "execution": {
     "iopub.execute_input": "2023-02-21T08:08:08.587582Z",
     "iopub.status.busy": "2023-02-21T08:08:08.587106Z",
     "iopub.status.idle": "2023-02-21T08:08:08.719608Z",
     "shell.execute_reply": "2023-02-21T08:08:08.718524Z",
     "shell.execute_reply.started": "2023-02-21T08:08:08.587552Z"
    }
   },
   "outputs": [],
   "source": [
    "from sklearn.preprocessing import MinMaxScaler\n",
    "scaler = MinMaxScaler(feature_range = (0,1))\n",
    "df_high = scaler.fit_transform(np.array(df_high).reshape(-1,1))"
   ]
  },
  {
   "cell_type": "code",
   "execution_count": 13,
   "metadata": {
    "execution": {
     "iopub.execute_input": "2023-02-21T08:08:08.721286Z",
     "iopub.status.busy": "2023-02-21T08:08:08.720939Z",
     "iopub.status.idle": "2023-02-21T08:08:08.727152Z",
     "shell.execute_reply": "2023-02-21T08:08:08.726243Z",
     "shell.execute_reply.started": "2023-02-21T08:08:08.721167Z"
    }
   },
   "outputs": [
    {
     "data": {
      "text/plain": [
       "(2035, 1)"
      ]
     },
     "execution_count": 13,
     "metadata": {},
     "output_type": "execute_result"
    }
   ],
   "source": [
    "df_high.shape"
   ]
  },
  {
   "cell_type": "code",
   "execution_count": 14,
   "metadata": {
    "execution": {
     "iopub.execute_input": "2023-02-21T08:08:08.728906Z",
     "iopub.status.busy": "2023-02-21T08:08:08.728668Z",
     "iopub.status.idle": "2023-02-21T08:08:08.739425Z",
     "shell.execute_reply": "2023-02-21T08:08:08.738734Z",
     "shell.execute_reply.started": "2023-02-21T08:08:08.728878Z"
    }
   },
   "outputs": [
    {
     "data": {
      "text/plain": [
       "array([[0.16344786],\n",
       "       [0.15938199],\n",
       "       [0.15917869],\n",
       "       ...,\n",
       "       [0.6391543 ],\n",
       "       [0.62614353],\n",
       "       [0.62268754]])"
      ]
     },
     "execution_count": 14,
     "metadata": {},
     "output_type": "execute_result"
    }
   ],
   "source": [
    "df_high"
   ]
  },
  {
   "cell_type": "code",
   "execution_count": 15,
   "metadata": {
    "execution": {
     "iopub.execute_input": "2023-02-21T08:08:08.741291Z",
     "iopub.status.busy": "2023-02-21T08:08:08.740368Z",
     "iopub.status.idle": "2023-02-21T08:08:08.747543Z",
     "shell.execute_reply": "2023-02-21T08:08:08.746776Z",
     "shell.execute_reply.started": "2023-02-21T08:08:08.741254Z"
    }
   },
   "outputs": [],
   "source": [
    "#Split the data into train and test split\n",
    "training_size = int(len(df_high) * 0.75)\n",
    "test_size = len(df_high) - training_size\n",
    "train_data,test_data = df_high[0:training_size,:], df_high[training_size:len(df_high),:1]"
   ]
  },
  {
   "cell_type": "code",
   "execution_count": 16,
   "metadata": {
    "execution": {
     "iopub.execute_input": "2023-02-21T08:08:08.748848Z",
     "iopub.status.busy": "2023-02-21T08:08:08.748564Z",
     "iopub.status.idle": "2023-02-21T08:08:08.759440Z",
     "shell.execute_reply": "2023-02-21T08:08:08.758703Z",
     "shell.execute_reply.started": "2023-02-21T08:08:08.748820Z"
    }
   },
   "outputs": [
    {
     "data": {
      "text/plain": [
       "(1526, 509)"
      ]
     },
     "execution_count": 16,
     "metadata": {},
     "output_type": "execute_result"
    }
   ],
   "source": [
    "training_size, test_size"
   ]
  },
  {
   "cell_type": "code",
   "execution_count": 17,
   "metadata": {
    "execution": {
     "iopub.execute_input": "2023-02-21T08:08:08.761367Z",
     "iopub.status.busy": "2023-02-21T08:08:08.760740Z",
     "iopub.status.idle": "2023-02-21T08:08:08.769876Z",
     "shell.execute_reply": "2023-02-21T08:08:08.768974Z",
     "shell.execute_reply.started": "2023-02-21T08:08:08.761332Z"
    }
   },
   "outputs": [],
   "source": [
    "# convert an array of values into a dataset matrix\n",
    "def create_dataset(dataset, time_step=1):\n",
    "    dataX, dataY = [], []\n",
    "    for i in range(len(dataset)-time_step-1):\n",
    "        a = dataset[i:(i+time_step), 0]  \n",
    "        dataX.append(a)\n",
    "        dataY.append(dataset[i + time_step, 0])\n",
    "    return np.array(dataX), np.array(dataY)"
   ]
  },
  {
   "cell_type": "code",
   "execution_count": 18,
   "metadata": {
    "execution": {
     "iopub.execute_input": "2023-02-21T08:08:08.771446Z",
     "iopub.status.busy": "2023-02-21T08:08:08.771111Z",
     "iopub.status.idle": "2023-02-21T08:08:08.783056Z",
     "shell.execute_reply": "2023-02-21T08:08:08.782222Z",
     "shell.execute_reply.started": "2023-02-21T08:08:08.771405Z"
    }
   },
   "outputs": [],
   "source": [
    "time_step = 100\n",
    "x_train, y_train = create_dataset(train_data, time_step)\n",
    "x_test, y_test = create_dataset(test_data, time_step)"
   ]
  },
  {
   "cell_type": "code",
   "execution_count": 19,
   "metadata": {
    "execution": {
     "iopub.execute_input": "2023-02-21T08:08:08.784957Z",
     "iopub.status.busy": "2023-02-21T08:08:08.784621Z",
     "iopub.status.idle": "2023-02-21T08:08:08.793836Z",
     "shell.execute_reply": "2023-02-21T08:08:08.792772Z",
     "shell.execute_reply.started": "2023-02-21T08:08:08.784915Z"
    }
   },
   "outputs": [],
   "source": [
    "#Reshape the input to be [samples, time steps, features] which is the requirement of LSTM\n",
    "x_train = x_train.reshape(x_train.shape[0], x_train.shape[1], 1)\n",
    "x_test = x_test.reshape(x_test.shape[0], x_test.shape[1], 1)"
   ]
  },
  {
   "cell_type": "code",
   "execution_count": 20,
   "metadata": {
    "execution": {
     "iopub.execute_input": "2023-02-21T08:08:08.795431Z",
     "iopub.status.busy": "2023-02-21T08:08:08.795133Z",
     "iopub.status.idle": "2023-02-21T08:08:08.806975Z",
     "shell.execute_reply": "2023-02-21T08:08:08.805932Z",
     "shell.execute_reply.started": "2023-02-21T08:08:08.795392Z"
    }
   },
   "outputs": [
    {
     "name": "stdout",
     "output_type": "stream",
     "text": [
      "(1425, 100, 1)\n",
      "(1425,)\n"
     ]
    },
    {
     "data": {
      "text/plain": [
       "(None, None)"
      ]
     },
     "execution_count": 20,
     "metadata": {},
     "output_type": "execute_result"
    }
   ],
   "source": [
    "print(x_train.shape), print(y_train.shape)"
   ]
  },
  {
   "cell_type": "code",
   "execution_count": 21,
   "metadata": {
    "execution": {
     "iopub.execute_input": "2023-02-21T08:08:08.809048Z",
     "iopub.status.busy": "2023-02-21T08:08:08.808399Z",
     "iopub.status.idle": "2023-02-21T08:08:08.816320Z",
     "shell.execute_reply": "2023-02-21T08:08:08.815534Z",
     "shell.execute_reply.started": "2023-02-21T08:08:08.809009Z"
    }
   },
   "outputs": [
    {
     "name": "stdout",
     "output_type": "stream",
     "text": [
      "(408, 100, 1)\n",
      "(408,)\n"
     ]
    },
    {
     "data": {
      "text/plain": [
       "(None, None)"
      ]
     },
     "execution_count": 21,
     "metadata": {},
     "output_type": "execute_result"
    }
   ],
   "source": [
    "print(x_test.shape), print(y_test.shape)"
   ]
  },
  {
   "cell_type": "code",
   "execution_count": 22,
   "metadata": {
    "execution": {
     "iopub.execute_input": "2023-02-21T08:08:08.818134Z",
     "iopub.status.busy": "2023-02-21T08:08:08.817871Z",
     "iopub.status.idle": "2023-02-21T08:08:13.720609Z",
     "shell.execute_reply": "2023-02-21T08:08:13.719587Z",
     "shell.execute_reply.started": "2023-02-21T08:08:08.818104Z"
    }
   },
   "outputs": [],
   "source": [
    "import tensorflow as tf\n",
    "from tensorflow.python.keras.models import Sequential\n",
    "from tensorflow.python.keras.layers import Dense\n",
    "from tensorflow.python.keras.layers import LSTM"
   ]
  },
  {
   "cell_type": "code",
   "execution_count": 23,
   "metadata": {
    "execution": {
     "iopub.execute_input": "2023-02-21T08:08:13.722138Z",
     "iopub.status.busy": "2023-02-21T08:08:13.721880Z",
     "iopub.status.idle": "2023-02-21T08:08:14.246986Z",
     "shell.execute_reply": "2023-02-21T08:08:14.246189Z",
     "shell.execute_reply.started": "2023-02-21T08:08:13.722106Z"
    }
   },
   "outputs": [],
   "source": [
    "### Create the Stacked LSTM model\n",
    "model = Sequential()\n",
    "model.add(LSTM(50, return_sequences = True, input_shape = (100,1)))\n",
    "model.add(LSTM(50, return_sequences = True))\n",
    "model.add(LSTM(50))\n",
    "model.add(Dense(1))\n",
    "model.compile(loss = 'mean_squared_error', optimizer = 'adam')"
   ]
  },
  {
   "cell_type": "code",
   "execution_count": 24,
   "metadata": {
    "execution": {
     "iopub.execute_input": "2023-02-21T08:08:14.248818Z",
     "iopub.status.busy": "2023-02-21T08:08:14.248461Z",
     "iopub.status.idle": "2023-02-21T08:08:14.259301Z",
     "shell.execute_reply": "2023-02-21T08:08:14.258141Z",
     "shell.execute_reply.started": "2023-02-21T08:08:14.248775Z"
    }
   },
   "outputs": [
    {
     "name": "stdout",
     "output_type": "stream",
     "text": [
      "Model: \"sequential\"\n",
      "_________________________________________________________________\n",
      "Layer (type)                 Output Shape              Param #   \n",
      "=================================================================\n",
      "lstm (LSTM)                  (None, 100, 50)           10400     \n",
      "_________________________________________________________________\n",
      "lstm_1 (LSTM)                (None, 100, 50)           20200     \n",
      "_________________________________________________________________\n",
      "lstm_2 (LSTM)                (None, 50)                20200     \n",
      "_________________________________________________________________\n",
      "dense (Dense)                (None, 1)                 51        \n",
      "=================================================================\n",
      "Total params: 50,851\n",
      "Trainable params: 50,851\n",
      "Non-trainable params: 0\n",
      "_________________________________________________________________\n"
     ]
    }
   ],
   "source": [
    "model.summary()"
   ]
  },
  {
   "cell_type": "code",
   "execution_count": 25,
   "metadata": {
    "execution": {
     "iopub.execute_input": "2023-02-21T08:08:14.261367Z",
     "iopub.status.busy": "2023-02-21T08:08:14.260955Z",
     "iopub.status.idle": "2023-02-21T08:34:29.324020Z",
     "shell.execute_reply": "2023-02-21T08:34:29.323220Z",
     "shell.execute_reply.started": "2023-02-21T08:08:14.261313Z"
    }
   },
   "outputs": [
    {
     "name": "stdout",
     "output_type": "stream",
     "text": [
      "Epoch 1/100\n",
      "23/23 [==============================] - 23s 400ms/step - loss: 0.0079 - val_loss: 0.0166\n",
      "Epoch 2/100\n",
      "23/23 [==============================] - 7s 304ms/step - loss: 0.0015 - val_loss: 0.0050\n",
      "Epoch 3/100\n",
      "23/23 [==============================] - 7s 314ms/step - loss: 8.1270e-04 - val_loss: 0.0034\n",
      "Epoch 4/100\n",
      "23/23 [==============================] - 7s 314ms/step - loss: 7.6104e-04 - val_loss: 0.0029\n",
      "Epoch 5/100\n",
      "23/23 [==============================] - 7s 303ms/step - loss: 7.6344e-04 - val_loss: 0.0043\n",
      "Epoch 6/100\n",
      "23/23 [==============================] - 7s 299ms/step - loss: 7.2929e-04 - val_loss: 0.0044\n",
      "Epoch 7/100\n",
      "23/23 [==============================] - 7s 301ms/step - loss: 6.8284e-04 - val_loss: 0.0034\n",
      "Epoch 8/100\n",
      "23/23 [==============================] - 7s 300ms/step - loss: 6.5238e-04 - val_loss: 0.0033\n",
      "Epoch 9/100\n",
      "23/23 [==============================] - 7s 296ms/step - loss: 6.2049e-04 - val_loss: 0.0037\n",
      "Epoch 10/100\n",
      "23/23 [==============================] - 7s 293ms/step - loss: 5.9677e-04 - val_loss: 0.0058\n",
      "Epoch 11/100\n",
      "23/23 [==============================] - 7s 297ms/step - loss: 5.8911e-04 - val_loss: 0.0038\n",
      "Epoch 12/100\n",
      "23/23 [==============================] - 7s 300ms/step - loss: 5.6032e-04 - val_loss: 0.0032\n",
      "Epoch 13/100\n",
      "23/23 [==============================] - 7s 300ms/step - loss: 5.4970e-04 - val_loss: 0.0096\n",
      "Epoch 14/100\n",
      "23/23 [==============================] - 7s 302ms/step - loss: 5.7045e-04 - val_loss: 0.0026\n",
      "Epoch 15/100\n",
      "23/23 [==============================] - 7s 298ms/step - loss: 5.1094e-04 - val_loss: 0.0077\n",
      "Epoch 16/100\n",
      "23/23 [==============================] - 7s 301ms/step - loss: 4.9475e-04 - val_loss: 0.0057\n",
      "Epoch 17/100\n",
      "23/23 [==============================] - 7s 296ms/step - loss: 4.9350e-04 - val_loss: 0.0046\n",
      "Epoch 18/100\n",
      "23/23 [==============================] - 7s 303ms/step - loss: 4.8616e-04 - val_loss: 0.0078\n",
      "Epoch 19/100\n",
      "23/23 [==============================] - 7s 303ms/step - loss: 4.8044e-04 - val_loss: 0.0048\n",
      "Epoch 20/100\n",
      "23/23 [==============================] - 7s 298ms/step - loss: 4.8108e-04 - val_loss: 0.0108\n",
      "Epoch 21/100\n",
      "23/23 [==============================] - 7s 302ms/step - loss: 4.5176e-04 - val_loss: 0.0070\n",
      "Epoch 22/100\n",
      "23/23 [==============================] - 7s 303ms/step - loss: 4.4961e-04 - val_loss: 0.0050\n",
      "Epoch 23/100\n",
      "23/23 [==============================] - 7s 297ms/step - loss: 4.0901e-04 - val_loss: 0.0072\n",
      "Epoch 24/100\n",
      "23/23 [==============================] - 7s 295ms/step - loss: 4.0263e-04 - val_loss: 0.0118\n",
      "Epoch 25/100\n",
      "23/23 [==============================] - 7s 300ms/step - loss: 4.5459e-04 - val_loss: 0.0074\n",
      "Epoch 26/100\n",
      "23/23 [==============================] - 7s 310ms/step - loss: 3.8429e-04 - val_loss: 0.0049\n",
      "Epoch 27/100\n",
      "23/23 [==============================] - 8s 336ms/step - loss: 3.6409e-04 - val_loss: 0.0074\n",
      "Epoch 28/100\n",
      "23/23 [==============================] - 6s 273ms/step - loss: 3.5167e-04 - val_loss: 0.0086\n",
      "Epoch 29/100\n",
      "23/23 [==============================] - 7s 288ms/step - loss: 3.4042e-04 - val_loss: 0.0059\n",
      "Epoch 30/100\n",
      "23/23 [==============================] - 7s 289ms/step - loss: 3.4532e-04 - val_loss: 0.0065\n",
      "Epoch 31/100\n",
      "23/23 [==============================] - 7s 303ms/step - loss: 3.1576e-04 - val_loss: 0.0045\n",
      "Epoch 32/100\n",
      "23/23 [==============================] - 7s 302ms/step - loss: 3.4284e-04 - val_loss: 0.0059\n",
      "Epoch 33/100\n",
      "23/23 [==============================] - 7s 302ms/step - loss: 3.0165e-04 - val_loss: 0.0050\n",
      "Epoch 34/100\n",
      "23/23 [==============================] - 7s 298ms/step - loss: 2.8035e-04 - val_loss: 0.0039\n",
      "Epoch 35/100\n",
      "23/23 [==============================] - 7s 326ms/step - loss: 2.7177e-04 - val_loss: 0.0032\n",
      "Epoch 36/100\n",
      "23/23 [==============================] - 6s 278ms/step - loss: 2.7165e-04 - val_loss: 0.0031\n",
      "Epoch 37/100\n",
      "23/23 [==============================] - 7s 291ms/step - loss: 2.5524e-04 - val_loss: 0.0036\n",
      "Epoch 38/100\n",
      "23/23 [==============================] - 7s 297ms/step - loss: 2.6168e-04 - val_loss: 0.0042\n",
      "Epoch 39/100\n",
      "23/23 [==============================] - 7s 328ms/step - loss: 2.7163e-04 - val_loss: 0.0011\n",
      "Epoch 40/100\n",
      "23/23 [==============================] - 7s 295ms/step - loss: 2.8669e-04 - val_loss: 0.0014\n",
      "Epoch 41/100\n",
      "23/23 [==============================] - 7s 295ms/step - loss: 2.4556e-04 - val_loss: 0.0024\n",
      "Epoch 42/100\n",
      "23/23 [==============================] - 7s 293ms/step - loss: 2.1003e-04 - val_loss: 0.0018\n",
      "Epoch 43/100\n",
      "23/23 [==============================] - 7s 285ms/step - loss: 2.0086e-04 - val_loss: 0.0031\n",
      "Epoch 44/100\n",
      "23/23 [==============================] - 7s 292ms/step - loss: 2.0833e-04 - val_loss: 0.0013\n",
      "Epoch 45/100\n",
      "23/23 [==============================] - 7s 290ms/step - loss: 2.0270e-04 - val_loss: 0.0024\n",
      "Epoch 46/100\n",
      "23/23 [==============================] - 7s 294ms/step - loss: 2.0614e-04 - val_loss: 0.0038\n",
      "Epoch 47/100\n",
      "23/23 [==============================] - 7s 289ms/step - loss: 1.8157e-04 - val_loss: 0.0025\n",
      "Epoch 48/100\n",
      "23/23 [==============================] - 7s 296ms/step - loss: 2.0633e-04 - val_loss: 0.0025\n",
      "Epoch 49/100\n",
      "23/23 [==============================] - 7s 289ms/step - loss: 1.8280e-04 - val_loss: 0.0032\n",
      "Epoch 50/100\n",
      "23/23 [==============================] - 7s 295ms/step - loss: 1.6721e-04 - val_loss: 0.0030\n",
      "Epoch 51/100\n",
      "23/23 [==============================] - 7s 287ms/step - loss: 1.5649e-04 - val_loss: 0.0011\n",
      "Epoch 52/100\n",
      "23/23 [==============================] - 7s 286ms/step - loss: 1.6209e-04 - val_loss: 0.0018\n",
      "Epoch 53/100\n",
      "23/23 [==============================] - 7s 298ms/step - loss: 1.4917e-04 - val_loss: 0.0017\n",
      "Epoch 54/100\n",
      "23/23 [==============================] - 7s 296ms/step - loss: 1.6247e-04 - val_loss: 0.0019\n",
      "Epoch 55/100\n",
      "23/23 [==============================] - 7s 301ms/step - loss: 1.4842e-04 - val_loss: 7.2449e-04\n",
      "Epoch 56/100\n",
      "23/23 [==============================] - 6s 280ms/step - loss: 1.6545e-04 - val_loss: 0.0022\n",
      "Epoch 57/100\n",
      "23/23 [==============================] - 7s 288ms/step - loss: 1.4875e-04 - val_loss: 9.0631e-04\n",
      "Epoch 58/100\n",
      "23/23 [==============================] - 7s 284ms/step - loss: 1.7132e-04 - val_loss: 0.0020\n",
      "Epoch 59/100\n",
      "23/23 [==============================] - 7s 300ms/step - loss: 1.5119e-04 - val_loss: 0.0014\n",
      "Epoch 60/100\n",
      "23/23 [==============================] - 7s 309ms/step - loss: 1.3945e-04 - val_loss: 6.8566e-04\n",
      "Epoch 61/100\n",
      "23/23 [==============================] - 7s 296ms/step - loss: 1.2925e-04 - val_loss: 0.0012\n",
      "Epoch 62/100\n",
      "23/23 [==============================] - 7s 301ms/step - loss: 1.3061e-04 - val_loss: 6.5867e-04\n",
      "Epoch 63/100\n",
      "23/23 [==============================] - 7s 315ms/step - loss: 1.4507e-04 - val_loss: 8.6174e-04\n",
      "Epoch 64/100\n",
      "23/23 [==============================] - 7s 298ms/step - loss: 1.5922e-04 - val_loss: 0.0022\n",
      "Epoch 65/100\n",
      "23/23 [==============================] - 7s 296ms/step - loss: 1.2969e-04 - val_loss: 0.0011\n",
      "Epoch 66/100\n",
      "23/23 [==============================] - 7s 295ms/step - loss: 1.2777e-04 - val_loss: 6.6164e-04\n",
      "Epoch 67/100\n",
      "23/23 [==============================] - 7s 300ms/step - loss: 1.4661e-04 - val_loss: 0.0016\n",
      "Epoch 68/100\n",
      "23/23 [==============================] - 7s 296ms/step - loss: 1.2214e-04 - val_loss: 0.0022\n",
      "Epoch 69/100\n",
      "23/23 [==============================] - 7s 290ms/step - loss: 1.2347e-04 - val_loss: 5.1547e-04\n",
      "Epoch 70/100\n",
      "23/23 [==============================] - 7s 294ms/step - loss: 1.2809e-04 - val_loss: 0.0016\n",
      "Epoch 71/100\n",
      "23/23 [==============================] - 7s 294ms/step - loss: 1.3079e-04 - val_loss: 8.7447e-04\n",
      "Epoch 72/100\n",
      "23/23 [==============================] - 7s 291ms/step - loss: 1.1301e-04 - val_loss: 5.8520e-04\n",
      "Epoch 73/100\n",
      "23/23 [==============================] - 6s 283ms/step - loss: 1.2183e-04 - val_loss: 0.0016\n",
      "Epoch 74/100\n",
      "23/23 [==============================] - 7s 286ms/step - loss: 1.1444e-04 - val_loss: 7.9931e-04\n",
      "Epoch 75/100\n",
      "23/23 [==============================] - 7s 290ms/step - loss: 1.1359e-04 - val_loss: 8.7087e-04\n",
      "Epoch 76/100\n",
      "23/23 [==============================] - 7s 293ms/step - loss: 1.1405e-04 - val_loss: 7.5542e-04\n",
      "Epoch 77/100\n",
      "23/23 [==============================] - 7s 294ms/step - loss: 1.1869e-04 - val_loss: 0.0015\n",
      "Epoch 78/100\n",
      "23/23 [==============================] - 7s 287ms/step - loss: 1.1273e-04 - val_loss: 0.0018\n",
      "Epoch 79/100\n",
      "23/23 [==============================] - 7s 284ms/step - loss: 1.1831e-04 - val_loss: 8.8175e-04\n",
      "Epoch 80/100\n",
      "23/23 [==============================] - 7s 294ms/step - loss: 1.1565e-04 - val_loss: 0.0017\n",
      "Epoch 81/100\n",
      "23/23 [==============================] - 7s 289ms/step - loss: 1.2022e-04 - val_loss: 4.4701e-04\n",
      "Epoch 82/100\n",
      "23/23 [==============================] - 7s 285ms/step - loss: 1.3907e-04 - val_loss: 0.0020\n",
      "Epoch 83/100\n",
      "23/23 [==============================] - 7s 288ms/step - loss: 1.1843e-04 - val_loss: 5.4316e-04\n",
      "Epoch 84/100\n",
      "23/23 [==============================] - 7s 286ms/step - loss: 1.2103e-04 - val_loss: 5.7055e-04\n",
      "Epoch 85/100\n",
      "23/23 [==============================] - 7s 289ms/step - loss: 1.1552e-04 - val_loss: 8.7947e-04\n",
      "Epoch 86/100\n",
      "23/23 [==============================] - 7s 289ms/step - loss: 1.1716e-04 - val_loss: 7.1317e-04\n",
      "Epoch 87/100\n",
      "23/23 [==============================] - 7s 285ms/step - loss: 1.1975e-04 - val_loss: 8.7218e-04\n",
      "Epoch 88/100\n",
      "23/23 [==============================] - 7s 287ms/step - loss: 1.1103e-04 - val_loss: 8.6531e-04\n",
      "Epoch 89/100\n",
      "23/23 [==============================] - 7s 287ms/step - loss: 1.2162e-04 - val_loss: 6.8199e-04\n",
      "Epoch 90/100\n",
      "23/23 [==============================] - 7s 284ms/step - loss: 1.1328e-04 - val_loss: 0.0015\n",
      "Epoch 91/100\n",
      "23/23 [==============================] - 7s 285ms/step - loss: 1.2646e-04 - val_loss: 8.7599e-04\n",
      "Epoch 92/100\n",
      "23/23 [==============================] - 7s 286ms/step - loss: 1.1796e-04 - val_loss: 4.2978e-04\n",
      "Epoch 93/100\n",
      "23/23 [==============================] - 7s 286ms/step - loss: 1.1073e-04 - val_loss: 5.8841e-04\n",
      "Epoch 94/100\n",
      "23/23 [==============================] - 7s 285ms/step - loss: 1.1689e-04 - val_loss: 9.0172e-04\n",
      "Epoch 95/100\n",
      "23/23 [==============================] - 7s 286ms/step - loss: 1.0823e-04 - val_loss: 9.7102e-04\n",
      "Epoch 96/100\n",
      "23/23 [==============================] - 7s 284ms/step - loss: 1.0937e-04 - val_loss: 6.6097e-04\n",
      "Epoch 97/100\n",
      "23/23 [==============================] - 6s 280ms/step - loss: 1.0875e-04 - val_loss: 6.3283e-04\n",
      "Epoch 98/100\n",
      "23/23 [==============================] - 7s 286ms/step - loss: 1.1673e-04 - val_loss: 8.6910e-04\n",
      "Epoch 99/100\n",
      "23/23 [==============================] - 7s 286ms/step - loss: 1.0949e-04 - val_loss: 0.0015\n",
      "Epoch 100/100\n",
      "23/23 [==============================] - 7s 287ms/step - loss: 1.1348e-04 - val_loss: 6.7659e-04\n"
     ]
    },
    {
     "data": {
      "text/plain": [
       "<tensorflow.python.keras.callbacks.History at 0x1f4dad0b910>"
      ]
     },
     "execution_count": 25,
     "metadata": {},
     "output_type": "execute_result"
    }
   ],
   "source": [
    "model.fit(x_train, y_train, validation_data = (x_test, y_test), epochs = 100, batch_size = 64, verbose = 1)"
   ]
  },
  {
   "cell_type": "code",
   "execution_count": 26,
   "metadata": {
    "execution": {
     "iopub.execute_input": "2023-02-21T08:34:29.325343Z",
     "iopub.status.busy": "2023-02-21T08:34:29.325099Z",
     "iopub.status.idle": "2023-02-21T08:34:38.738839Z",
     "shell.execute_reply": "2023-02-21T08:34:38.738156Z",
     "shell.execute_reply.started": "2023-02-21T08:34:29.325314Z"
    }
   },
   "outputs": [],
   "source": [
    "#predictions\n",
    "#Lets predict and check performance metrics\n",
    "train_predict = model.predict(x_train)\n",
    "test_predict = model.predict(x_test)"
   ]
  },
  {
   "cell_type": "code",
   "execution_count": 27,
   "metadata": {
    "execution": {
     "iopub.execute_input": "2023-02-21T08:34:38.740700Z",
     "iopub.status.busy": "2023-02-21T08:34:38.740025Z",
     "iopub.status.idle": "2023-02-21T08:34:38.744988Z",
     "shell.execute_reply": "2023-02-21T08:34:38.744386Z",
     "shell.execute_reply.started": "2023-02-21T08:34:38.740667Z"
    }
   },
   "outputs": [],
   "source": [
    "#Transform back to original form\n",
    "train_predict = scaler.inverse_transform(train_predict)\n",
    "test_predict = scaler.inverse_transform(test_predict)"
   ]
  },
  {
   "cell_type": "code",
   "execution_count": 28,
   "metadata": {
    "execution": {
     "iopub.execute_input": "2023-02-21T08:34:38.750160Z",
     "iopub.status.busy": "2023-02-21T08:34:38.749563Z",
     "iopub.status.idle": "2023-02-21T08:34:38.787889Z",
     "shell.execute_reply": "2023-02-21T08:34:38.786938Z",
     "shell.execute_reply.started": "2023-02-21T08:34:38.750108Z"
    }
   },
   "outputs": [
    {
     "data": {
      "text/plain": [
       "135.9635811454166"
      ]
     },
     "execution_count": 28,
     "metadata": {},
     "output_type": "execute_result"
    }
   ],
   "source": [
    "#Calculate RMSE performance metrics\n",
    "import math\n",
    "from sklearn.metrics import mean_squared_error\n",
    "math.sqrt(mean_squared_error(y_train, train_predict))"
   ]
  },
  {
   "cell_type": "code",
   "execution_count": 29,
   "metadata": {
    "execution": {
     "iopub.execute_input": "2023-02-21T08:34:38.790234Z",
     "iopub.status.busy": "2023-02-21T08:34:38.789611Z",
     "iopub.status.idle": "2023-02-21T08:34:38.797211Z",
     "shell.execute_reply": "2023-02-21T08:34:38.796290Z",
     "shell.execute_reply.started": "2023-02-21T08:34:38.790131Z"
    }
   },
   "outputs": [
    {
     "data": {
      "text/plain": [
       "229.22738316807266"
      ]
     },
     "execution_count": 29,
     "metadata": {},
     "output_type": "execute_result"
    }
   ],
   "source": [
    "#Test Data RMSE\n",
    "math.sqrt(mean_squared_error(y_test, test_predict))"
   ]
  },
  {
   "cell_type": "code",
   "execution_count": 30,
   "metadata": {
    "execution": {
     "iopub.execute_input": "2023-02-21T08:34:38.799026Z",
     "iopub.status.busy": "2023-02-21T08:34:38.798330Z",
     "iopub.status.idle": "2023-02-21T08:34:38.806324Z",
     "shell.execute_reply": "2023-02-21T08:34:38.805739Z",
     "shell.execute_reply.started": "2023-02-21T08:34:38.798994Z"
    }
   },
   "outputs": [],
   "source": [
    "#Plotting\n",
    "#Shift train prediction for plotting\n",
    "look_back = 100\n",
    "trainPredictPlot = np.empty_like(df_high)\n",
    "trainPredictPlot[:,:] = np.nan\n",
    "trainPredictPlot[look_back:len(train_predict) + look_back, :] = train_predict\n",
    "\n",
    "#Shift test prediction for plotting\n",
    "testPredictPlot = np.empty_like(df_high)\n",
    "testPredictPlot[:,:] = np.nan\n",
    "testPredictPlot[len(train_predict) + (look_back * 2)+1:len(df_high) - 1, :] = test_predict"
   ]
  },
  {
   "cell_type": "code",
   "execution_count": 31,
   "metadata": {
    "execution": {
     "iopub.execute_input": "2023-02-21T08:34:38.808064Z",
     "iopub.status.busy": "2023-02-21T08:34:38.807328Z",
     "iopub.status.idle": "2023-02-21T08:34:38.957554Z",
     "shell.execute_reply": "2023-02-21T08:34:38.956913Z",
     "shell.execute_reply.started": "2023-02-21T08:34:38.808033Z"
    }
   },
   "outputs": [
    {
     "data": {
      "image/png": "[encoded data removed]",
      "text/plain": [
       "<Figure size 432x288 with 1 Axes>"
      ]
     },
     "metadata": {
      "needs_background": "light"
     },
     "output_type": "display_data"
    },
    {
     "name": "stdout",
     "output_type": "stream",
     "text": [
      "Green indicates the Predicted Data\n",
      "Blue indicates the Complete Data\n",
      "Orange indicates the Train Data\n"
     ]
    }
   ],
   "source": [
    "#Plot baseline and predictions\n",
    "plt.plot(scaler.inverse_transform(df_high))\n",
    "plt.plot(trainPredictPlot)\n",
    "plt.plot(testPredictPlot)\n",
    "plt.show()\n",
    "\n",
    "print(\"Green indicates the Predicted Data\")\n",
    "print(\"Blue indicates the Complete Data\")\n",
    "print(\"Orange indicates the Train Data\")"
   ]
  },
  {
   "cell_type": "code",
   "execution_count": 32,
   "metadata": {
    "execution": {
     "iopub.execute_input": "2023-02-21T08:34:38.959202Z",
     "iopub.status.busy": "2023-02-21T08:34:38.958740Z",
     "iopub.status.idle": "2023-02-21T08:34:38.964852Z",
     "shell.execute_reply": "2023-02-21T08:34:38.964074Z",
     "shell.execute_reply.started": "2023-02-21T08:34:38.959156Z"
    }
   },
   "outputs": [
    {
     "data": {
      "text/plain": [
       "(509, (408, 100, 1))"
      ]
     },
     "execution_count": 32,
     "metadata": {},
     "output_type": "execute_result"
    }
   ],
   "source": [
    "#Predict the next 28 days Stock Price\n",
    "len(test_data), x_test.shape"
   ]
  },
  {
   "cell_type": "code",
   "execution_count": 33,
   "metadata": {
    "execution": {
     "iopub.execute_input": "2023-02-21T08:34:38.966264Z",
     "iopub.status.busy": "2023-02-21T08:34:38.966017Z",
     "iopub.status.idle": "2023-02-21T08:34:38.976500Z",
     "shell.execute_reply": "2023-02-21T08:34:38.975538Z",
     "shell.execute_reply.started": "2023-02-21T08:34:38.966236Z"
    }
   },
   "outputs": [
    {
     "data": {
      "text/plain": [
       "(1, 100)"
      ]
     },
     "execution_count": 33,
     "metadata": {},
     "output_type": "execute_result"
    }
   ],
   "source": [
    "x_input = test_data[409:].reshape(1,-1)\n",
    "x_input.shape"
   ]
  },
  {
   "cell_type": "code",
   "execution_count": 34,
   "metadata": {
    "execution": {
     "iopub.execute_input": "2023-02-21T08:34:38.977782Z",
     "iopub.status.busy": "2023-02-21T08:34:38.977557Z",
     "iopub.status.idle": "2023-02-21T08:34:42.496733Z",
     "shell.execute_reply": "2023-02-21T08:34:42.495518Z",
     "shell.execute_reply.started": "2023-02-21T08:34:38.977754Z"
    }
   },
   "outputs": [
    {
     "name": "stdout",
     "output_type": "stream",
     "text": [
      "[0.6142888]\n",
      "101\n",
      "1 day input [0.86013417 0.85464525 0.84448059 0.8072779  0.71843871 0.66192316\n",
      " 0.67696686 0.67554381 0.67310429 0.68428542 0.68936776 0.70217524\n",
      " 0.71803212 0.72941655 0.73144948 0.74486684 0.76926205 0.75991055\n",
      " 0.74242732 0.73958122 0.74771295 0.75991055 0.7584875  0.76621264\n",
      " 0.75462492 0.76316324 0.79670665 0.80585485 0.7889815  0.78003659\n",
      " 0.73978451 0.73002643 0.73490547 0.74872942 0.75991055 0.75462492\n",
      " 0.75401504 0.76174019 0.7737345  0.82008538 0.80585485 0.81154706\n",
      " 0.77434438 0.78633869 0.79284407 0.78328929 0.77109169 0.74385038\n",
      " 0.71193332 0.68733482 0.67818662 0.65257166 0.64301687 0.65643423\n",
      " 0.67656028 0.67371417 0.65114861 0.65521447 0.66761537 0.67838992\n",
      " 0.69993901 0.63122586 0.63508843 0.64098394 0.64545639 0.64118723\n",
      " 0.63854442 0.63081927 0.62472047 0.6330555  0.64728603 0.6574507\n",
      " 0.66761537 0.66720878 0.64159382 0.62776987 0.63651149 0.63630819\n",
      " 0.62980281 0.62817646 0.63813783 0.65358813 0.63183574 0.57653995\n",
      " 0.57816629 0.57613336 0.61943484 0.57979264 0.57288067 0.62573694\n",
      " 0.63102257 0.6361049  0.62776987 0.6269567  0.63590161 0.62594023\n",
      " 0.6391543  0.62614353 0.62268754 0.61428881]\n",
      "1 day output [[0.5991917]]\n",
      "2 day input [0.85464525 0.84448059 0.8072779  0.71843871 0.66192316 0.67696686\n",
      " 0.67554381 0.67310429 0.68428542 0.68936776 0.70217524 0.71803212\n",
      " 0.72941655 0.73144948 0.74486684 0.76926205 0.75991055 0.74242732\n",
      " 0.73958122 0.74771295 0.75991055 0.7584875  0.76621264 0.75462492\n",
      " 0.76316324 0.79670665 0.80585485 0.7889815  0.78003659 0.73978451\n",
      " 0.73002643 0.73490547 0.74872942 0.75991055 0.75462492 0.75401504\n",
      " 0.76174019 0.7737345  0.82008538 0.80585485 0.81154706 0.77434438\n",
      " 0.78633869 0.79284407 0.78328929 0.77109169 0.74385038 0.71193332\n",
      " 0.68733482 0.67818662 0.65257166 0.64301687 0.65643423 0.67656028\n",
      " 0.67371417 0.65114861 0.65521447 0.66761537 0.67838992 0.69993901\n",
      " 0.63122586 0.63508843 0.64098394 0.64545639 0.64118723 0.63854442\n",
      " 0.63081927 0.62472047 0.6330555  0.64728603 0.6574507  0.66761537\n",
      " 0.66720878 0.64159382 0.62776987 0.63651149 0.63630819 0.62980281\n",
      " 0.62817646 0.63813783 0.65358813 0.63183574 0.57653995 0.57816629\n",
      " 0.57613336 0.61943484 0.57979264 0.57288067 0.62573694 0.63102257\n",
      " 0.6361049  0.62776987 0.6269567  0.63590161 0.62594023 0.6391543\n",
      " 0.62614353 0.62268754 0.61428881 0.59919173]\n",
      "2 day output [[0.58350295]]\n",
      "3 day input [0.84448059 0.8072779  0.71843871 0.66192316 0.67696686 0.67554381\n",
      " 0.67310429 0.68428542 0.68936776 0.70217524 0.71803212 0.72941655\n",
      " 0.73144948 0.74486684 0.76926205 0.75991055 0.74242732 0.73958122\n",
      " 0.74771295 0.75991055 0.7584875  0.76621264 0.75462492 0.76316324\n",
      " 0.79670665 0.80585485 0.7889815  0.78003659 0.73978451 0.73002643\n",
      " 0.73490547 0.74872942 0.75991055 0.75462492 0.75401504 0.76174019\n",
      " 0.7737345  0.82008538 0.80585485 0.81154706 0.77434438 0.78633869\n",
      " 0.79284407 0.78328929 0.77109169 0.74385038 0.71193332 0.68733482\n",
      " 0.67818662 0.65257166 0.64301687 0.65643423 0.67656028 0.67371417\n",
      " 0.65114861 0.65521447 0.66761537 0.67838992 0.69993901 0.63122586\n",
      " 0.63508843 0.64098394 0.64545639 0.64118723 0.63854442 0.63081927\n",
      " 0.62472047 0.6330555  0.64728603 0.6574507  0.66761537 0.66720878\n",
      " 0.64159382 0.62776987 0.63651149 0.63630819 0.62980281 0.62817646\n",
      " 0.63813783 0.65358813 0.63183574 0.57653995 0.57816629 0.57613336\n",
      " 0.61943484 0.57979264 0.57288067 0.62573694 0.63102257 0.6361049\n",
      " 0.62776987 0.6269567  0.63590161 0.62594023 0.6391543  0.62614353\n",
      " 0.62268754 0.61428881 0.59919173 0.58350295]\n",
      "3 day output [[0.5692758]]\n",
      "4 day input [0.8072779  0.71843871 0.66192316 0.67696686 0.67554381 0.67310429\n",
      " 0.68428542 0.68936776 0.70217524 0.71803212 0.72941655 0.73144948\n",
      " 0.74486684 0.76926205 0.75991055 0.74242732 0.73958122 0.74771295\n",
      " 0.75991055 0.7584875  0.76621264 0.75462492 0.76316324 0.79670665\n",
      " 0.80585485 0.7889815  0.78003659 0.73978451 0.73002643 0.73490547\n",
      " 0.74872942 0.75991055 0.75462492 0.75401504 0.76174019 0.7737345\n",
      " 0.82008538 0.80585485 0.81154706 0.77434438 0.78633869 0.79284407\n",
      " 0.78328929 0.77109169 0.74385038 0.71193332 0.68733482 0.67818662\n",
      " 0.65257166 0.64301687 0.65643423 0.67656028 0.67371417 0.65114861\n",
      " 0.65521447 0.66761537 0.67838992 0.69993901 0.63122586 0.63508843\n",
      " 0.64098394 0.64545639 0.64118723 0.63854442 0.63081927 0.62472047\n",
      " 0.6330555  0.64728603 0.6574507  0.66761537 0.66720878 0.64159382\n",
      " 0.62776987 0.63651149 0.63630819 0.62980281 0.62817646 0.63813783\n",
      " 0.65358813 0.63183574 0.57653995 0.57816629 0.57613336 0.61943484\n",
      " 0.57979264 0.57288067 0.62573694 0.63102257 0.6361049  0.62776987\n",
      " 0.6269567  0.63590161 0.62594023 0.6391543  0.62614353 0.62268754\n",
      " 0.61428881 0.59919173 0.58350295 0.5692758 ]\n",
      "4 day output [[0.55672044]]\n",
      "5 day input [0.71843871 0.66192316 0.67696686 0.67554381 0.67310429 0.68428542\n",
      " 0.68936776 0.70217524 0.71803212 0.72941655 0.73144948 0.74486684\n",
      " 0.76926205 0.75991055 0.74242732 0.73958122 0.74771295 0.75991055\n",
      " 0.7584875  0.76621264 0.75462492 0.76316324 0.79670665 0.80585485\n",
      " 0.7889815  0.78003659 0.73978451 0.73002643 0.73490547 0.74872942\n",
      " 0.75991055 0.75462492 0.75401504 0.76174019 0.7737345  0.82008538\n",
      " 0.80585485 0.81154706 0.77434438 0.78633869 0.79284407 0.78328929\n",
      " 0.77109169 0.74385038 0.71193332 0.68733482 0.67818662 0.65257166\n",
      " 0.64301687 0.65643423 0.67656028 0.67371417 0.65114861 0.65521447\n",
      " 0.66761537 0.67838992 0.69993901 0.63122586 0.63508843 0.64098394\n",
      " 0.64545639 0.64118723 0.63854442 0.63081927 0.62472047 0.6330555\n",
      " 0.64728603 0.6574507  0.66761537 0.66720878 0.64159382 0.62776987\n",
      " 0.63651149 0.63630819 0.62980281 0.62817646 0.63813783 0.65358813\n",
      " 0.63183574 0.57653995 0.57816629 0.57613336 0.61943484 0.57979264\n",
      " 0.57288067 0.62573694 0.63102257 0.6361049  0.62776987 0.6269567\n",
      " 0.63590161 0.62594023 0.6391543  0.62614353 0.62268754 0.61428881\n",
      " 0.59919173 0.58350295 0.5692758  0.55672044]\n",
      "5 day output [[0.54584944]]\n",
      "6 day input [0.66192316 0.67696686 0.67554381 0.67310429 0.68428542 0.68936776\n",
      " 0.70217524 0.71803212 0.72941655 0.73144948 0.74486684 0.76926205\n",
      " 0.75991055 0.74242732 0.73958122 0.74771295 0.75991055 0.7584875\n",
      " 0.76621264 0.75462492 0.76316324 0.79670665 0.80585485 0.7889815\n",
      " 0.78003659 0.73978451 0.73002643 0.73490547 0.74872942 0.75991055\n",
      " 0.75462492 0.75401504 0.76174019 0.7737345  0.82008538 0.80585485\n",
      " 0.81154706 0.77434438 0.78633869 0.79284407 0.78328929 0.77109169\n",
      " 0.74385038 0.71193332 0.68733482 0.67818662 0.65257166 0.64301687\n",
      " 0.65643423 0.67656028 0.67371417 0.65114861 0.65521447 0.66761537\n",
      " 0.67838992 0.69993901 0.63122586 0.63508843 0.64098394 0.64545639\n",
      " 0.64118723 0.63854442 0.63081927 0.62472047 0.6330555  0.64728603\n",
      " 0.6574507  0.66761537 0.66720878 0.64159382 0.62776987 0.63651149\n",
      " 0.63630819 0.62980281 0.62817646 0.63813783 0.65358813 0.63183574\n",
      " 0.57653995 0.57816629 0.57613336 0.61943484 0.57979264 0.57288067\n",
      " 0.62573694 0.63102257 0.6361049  0.62776987 0.6269567  0.63590161\n",
      " 0.62594023 0.6391543  0.62614353 0.62268754 0.61428881 0.59919173\n",
      " 0.58350295 0.5692758  0.55672044 0.54584944]\n",
      "6 day output [[0.5364157]]\n",
      "7 day input [0.67696686 0.67554381 0.67310429 0.68428542 0.68936776 0.70217524\n",
      " 0.71803212 0.72941655 0.73144948 0.74486684 0.76926205 0.75991055\n",
      " 0.74242732 0.73958122 0.74771295 0.75991055 0.7584875  0.76621264\n",
      " 0.75462492 0.76316324 0.79670665 0.80585485 0.7889815  0.78003659\n",
      " 0.73978451 0.73002643 0.73490547 0.74872942 0.75991055 0.75462492\n",
      " 0.75401504 0.76174019 0.7737345  0.82008538 0.80585485 0.81154706\n",
      " 0.77434438 0.78633869 0.79284407 0.78328929 0.77109169 0.74385038\n",
      " 0.71193332 0.68733482 0.67818662 0.65257166 0.64301687 0.65643423\n",
      " 0.67656028 0.67371417 0.65114861 0.65521447 0.66761537 0.67838992\n",
      " 0.69993901 0.63122586 0.63508843 0.64098394 0.64545639 0.64118723\n",
      " 0.63854442 0.63081927 0.62472047 0.6330555  0.64728603 0.6574507\n",
      " 0.66761537 0.66720878 0.64159382 0.62776987 0.63651149 0.63630819\n",
      " 0.62980281 0.62817646 0.63813783 0.65358813 0.63183574 0.57653995\n",
      " 0.57816629 0.57613336 0.61943484 0.57979264 0.57288067 0.62573694\n",
      " 0.63102257 0.6361049  0.62776987 0.6269567  0.63590161 0.62594023\n",
      " 0.6391543  0.62614353 0.62268754 0.61428881 0.59919173 0.58350295\n",
      " 0.5692758  0.55672044 0.54584944 0.5364157 ]\n",
      "7 day output [[0.5281427]]\n",
      "8 day input [0.67554381 0.67310429 0.68428542 0.68936776 0.70217524 0.71803212\n",
      " 0.72941655 0.73144948 0.74486684 0.76926205 0.75991055 0.74242732\n",
      " 0.73958122 0.74771295 0.75991055 0.7584875  0.76621264 0.75462492\n",
      " 0.76316324 0.79670665 0.80585485 0.7889815  0.78003659 0.73978451\n",
      " 0.73002643 0.73490547 0.74872942 0.75991055 0.75462492 0.75401504\n",
      " 0.76174019 0.7737345  0.82008538 0.80585485 0.81154706 0.77434438\n",
      " 0.78633869 0.79284407 0.78328929 0.77109169 0.74385038 0.71193332\n",
      " 0.68733482 0.67818662 0.65257166 0.64301687 0.65643423 0.67656028\n",
      " 0.67371417 0.65114861 0.65521447 0.66761537 0.67838992 0.69993901\n",
      " 0.63122586 0.63508843 0.64098394 0.64545639 0.64118723 0.63854442\n",
      " 0.63081927 0.62472047 0.6330555  0.64728603 0.6574507  0.66761537\n",
      " 0.66720878 0.64159382 0.62776987 0.63651149 0.63630819 0.62980281\n",
      " 0.62817646 0.63813783 0.65358813 0.63183574 0.57653995 0.57816629\n",
      " 0.57613336 0.61943484 0.57979264 0.57288067 0.62573694 0.63102257\n",
      " 0.6361049  0.62776987 0.6269567  0.63590161 0.62594023 0.6391543\n",
      " 0.62614353 0.62268754 0.61428881 0.59919173 0.58350295 0.5692758\n",
      " 0.55672044 0.54584944 0.5364157  0.52814269]\n",
      "8 day output [[0.52087575]]\n",
      "9 day input [0.67310429 0.68428542 0.68936776 0.70217524 0.71803212 0.72941655\n",
      " 0.73144948 0.74486684 0.76926205 0.75991055 0.74242732 0.73958122\n",
      " 0.74771295 0.75991055 0.7584875  0.76621264 0.75462492 0.76316324\n",
      " 0.79670665 0.80585485 0.7889815  0.78003659 0.73978451 0.73002643\n",
      " 0.73490547 0.74872942 0.75991055 0.75462492 0.75401504 0.76174019\n",
      " 0.7737345  0.82008538 0.80585485 0.81154706 0.77434438 0.78633869\n",
      " 0.79284407 0.78328929 0.77109169 0.74385038 0.71193332 0.68733482\n",
      " 0.67818662 0.65257166 0.64301687 0.65643423 0.67656028 0.67371417\n",
      " 0.65114861 0.65521447 0.66761537 0.67838992 0.69993901 0.63122586\n",
      " 0.63508843 0.64098394 0.64545639 0.64118723 0.63854442 0.63081927\n",
      " 0.62472047 0.6330555  0.64728603 0.6574507  0.66761537 0.66720878\n",
      " 0.64159382 0.62776987 0.63651149 0.63630819 0.62980281 0.62817646\n",
      " 0.63813783 0.65358813 0.63183574 0.57653995 0.57816629 0.57613336\n",
      " 0.61943484 0.57979264 0.57288067 0.62573694 0.63102257 0.6361049\n",
      " 0.62776987 0.6269567  0.63590161 0.62594023 0.6391543  0.62614353\n",
      " 0.62268754 0.61428881 0.59919173 0.58350295 0.5692758  0.55672044\n",
      " 0.54584944 0.5364157  0.52814269 0.52087575]\n",
      "9 day output [[0.514467]]\n",
      "10 day input [0.68428542 0.68936776 0.70217524 0.71803212 0.72941655 0.73144948\n",
      " 0.74486684 0.76926205 0.75991055 0.74242732 0.73958122 0.74771295\n",
      " 0.75991055 0.7584875  0.76621264 0.75462492 0.76316324 0.79670665\n",
      " 0.80585485 0.7889815  0.78003659 0.73978451 0.73002643 0.73490547\n",
      " 0.74872942 0.75991055 0.75462492 0.75401504 0.76174019 0.7737345\n",
      " 0.82008538 0.80585485 0.81154706 0.77434438 0.78633869 0.79284407\n",
      " 0.78328929 0.77109169 0.74385038 0.71193332 0.68733482 0.67818662\n",
      " 0.65257166 0.64301687 0.65643423 0.67656028 0.67371417 0.65114861\n",
      " 0.65521447 0.66761537 0.67838992 0.69993901 0.63122586 0.63508843\n",
      " 0.64098394 0.64545639 0.64118723 0.63854442 0.63081927 0.62472047\n",
      " 0.6330555  0.64728603 0.6574507  0.66761537 0.66720878 0.64159382\n",
      " 0.62776987 0.63651149 0.63630819 0.62980281 0.62817646 0.63813783\n",
      " 0.65358813 0.63183574 0.57653995 0.57816629 0.57613336 0.61943484\n",
      " 0.57979264 0.57288067 0.62573694 0.63102257 0.6361049  0.62776987\n",
      " 0.6269567  0.63590161 0.62594023 0.6391543  0.62614353 0.62268754\n",
      " 0.61428881 0.59919173 0.58350295 0.5692758  0.55672044 0.54584944\n",
      " 0.5364157  0.52814269 0.52087575 0.514467  ]\n",
      "10 day output [[0.5087995]]\n",
      "11 day input [0.68936776 0.70217524 0.71803212 0.72941655 0.73144948 0.74486684\n",
      " 0.76926205 0.75991055 0.74242732 0.73958122 0.74771295 0.75991055\n",
      " 0.7584875  0.76621264 0.75462492 0.76316324 0.79670665 0.80585485\n",
      " 0.7889815  0.78003659 0.73978451 0.73002643 0.73490547 0.74872942\n",
      " 0.75991055 0.75462492 0.75401504 0.76174019 0.7737345  0.82008538\n",
      " 0.80585485 0.81154706 0.77434438 0.78633869 0.79284407 0.78328929\n",
      " 0.77109169 0.74385038 0.71193332 0.68733482 0.67818662 0.65257166\n",
      " 0.64301687 0.65643423 0.67656028 0.67371417 0.65114861 0.65521447\n",
      " 0.66761537 0.67838992 0.69993901 0.63122586 0.63508843 0.64098394\n",
      " 0.64545639 0.64118723 0.63854442 0.63081927 0.62472047 0.6330555\n",
      " 0.64728603 0.6574507  0.66761537 0.66720878 0.64159382 0.62776987\n",
      " 0.63651149 0.63630819 0.62980281 0.62817646 0.63813783 0.65358813\n",
      " 0.63183574 0.57653995 0.57816629 0.57613336 0.61943484 0.57979264\n",
      " 0.57288067 0.62573694 0.63102257 0.6361049  0.62776987 0.6269567\n",
      " 0.63590161 0.62594023 0.6391543  0.62614353 0.62268754 0.61428881\n",
      " 0.59919173 0.58350295 0.5692758  0.55672044 0.54584944 0.5364157\n",
      " 0.52814269 0.52087575 0.514467   0.50879949]\n",
      "11 day output [[0.5037855]]\n",
      "12 day input [0.70217524 0.71803212 0.72941655 0.73144948 0.74486684 0.76926205\n",
      " 0.75991055 0.74242732 0.73958122 0.74771295 0.75991055 0.7584875\n",
      " 0.76621264 0.75462492 0.76316324 0.79670665 0.80585485 0.7889815\n",
      " 0.78003659 0.73978451 0.73002643 0.73490547 0.74872942 0.75991055\n",
      " 0.75462492 0.75401504 0.76174019 0.7737345  0.82008538 0.80585485\n",
      " 0.81154706 0.77434438 0.78633869 0.79284407 0.78328929 0.77109169\n",
      " 0.74385038 0.71193332 0.68733482 0.67818662 0.65257166 0.64301687\n",
      " 0.65643423 0.67656028 0.67371417 0.65114861 0.65521447 0.66761537\n",
      " 0.67838992 0.69993901 0.63122586 0.63508843 0.64098394 0.64545639\n",
      " 0.64118723 0.63854442 0.63081927 0.62472047 0.6330555  0.64728603\n",
      " 0.6574507  0.66761537 0.66720878 0.64159382 0.62776987 0.63651149\n",
      " 0.63630819 0.62980281 0.62817646 0.63813783 0.65358813 0.63183574\n",
      " 0.57653995 0.57816629 0.57613336 0.61943484 0.57979264 0.57288067\n",
      " 0.62573694 0.63102257 0.6361049  0.62776987 0.6269567  0.63590161\n",
      " 0.62594023 0.6391543  0.62614353 0.62268754 0.61428881 0.59919173\n",
      " 0.58350295 0.5692758  0.55672044 0.54584944 0.5364157  0.52814269\n",
      " 0.52087575 0.514467   0.50879949 0.50378549]\n",
      "12 day output [[0.49935403]]\n",
      "13 day input [0.71803212 0.72941655 0.73144948 0.74486684 0.76926205 0.75991055\n",
      " 0.74242732 0.73958122 0.74771295 0.75991055 0.7584875  0.76621264\n",
      " 0.75462492 0.76316324 0.79670665 0.80585485 0.7889815  0.78003659\n",
      " 0.73978451 0.73002643 0.73490547 0.74872942 0.75991055 0.75462492\n",
      " 0.75401504 0.76174019 0.7737345  0.82008538 0.80585485 0.81154706\n",
      " 0.77434438 0.78633869 0.79284407 0.78328929 0.77109169 0.74385038\n",
      " 0.71193332 0.68733482 0.67818662 0.65257166 0.64301687 0.65643423\n",
      " 0.67656028 0.67371417 0.65114861 0.65521447 0.66761537 0.67838992\n",
      " 0.69993901 0.63122586 0.63508843 0.64098394 0.64545639 0.64118723\n",
      " 0.63854442 0.63081927 0.62472047 0.6330555  0.64728603 0.6574507\n",
      " 0.66761537 0.66720878 0.64159382 0.62776987 0.63651149 0.63630819\n",
      " 0.62980281 0.62817646 0.63813783 0.65358813 0.63183574 0.57653995\n",
      " 0.57816629 0.57613336 0.61943484 0.57979264 0.57288067 0.62573694\n",
      " 0.63102257 0.6361049  0.62776987 0.6269567  0.63590161 0.62594023\n",
      " 0.6391543  0.62614353 0.62268754 0.61428881 0.59919173 0.58350295\n",
      " 0.5692758  0.55672044 0.54584944 0.5364157  0.52814269 0.52087575\n",
      " 0.514467   0.50879949 0.50378549 0.49935403]\n",
      "13 day output [[0.49544072]]\n",
      "14 day input [0.72941655 0.73144948 0.74486684 0.76926205 0.75991055 0.74242732\n",
      " 0.73958122 0.74771295 0.75991055 0.7584875  0.76621264 0.75462492\n",
      " 0.76316324 0.79670665 0.80585485 0.7889815  0.78003659 0.73978451\n",
      " 0.73002643 0.73490547 0.74872942 0.75991055 0.75462492 0.75401504\n",
      " 0.76174019 0.7737345  0.82008538 0.80585485 0.81154706 0.77434438\n",
      " 0.78633869 0.79284407 0.78328929 0.77109169 0.74385038 0.71193332\n",
      " 0.68733482 0.67818662 0.65257166 0.64301687 0.65643423 0.67656028\n",
      " 0.67371417 0.65114861 0.65521447 0.66761537 0.67838992 0.69993901\n",
      " 0.63122586 0.63508843 0.64098394 0.64545639 0.64118723 0.63854442\n",
      " 0.63081927 0.62472047 0.6330555  0.64728603 0.6574507  0.66761537\n",
      " 0.66720878 0.64159382 0.62776987 0.63651149 0.63630819 0.62980281\n",
      " 0.62817646 0.63813783 0.65358813 0.63183574 0.57653995 0.57816629\n",
      " 0.57613336 0.61943484 0.57979264 0.57288067 0.62573694 0.63102257\n",
      " 0.6361049  0.62776987 0.6269567  0.63590161 0.62594023 0.6391543\n",
      " 0.62614353 0.62268754 0.61428881 0.59919173 0.58350295 0.5692758\n",
      " 0.55672044 0.54584944 0.5364157  0.52814269 0.52087575 0.514467\n",
      " 0.50879949 0.50378549 0.49935403 0.49544072]\n",
      "14 day output [[0.49198315]]\n",
      "15 day input [0.73144948 0.74486684 0.76926205 0.75991055 0.74242732 0.73958122\n",
      " 0.74771295 0.75991055 0.7584875  0.76621264 0.75462492 0.76316324\n",
      " 0.79670665 0.80585485 0.7889815  0.78003659 0.73978451 0.73002643\n",
      " 0.73490547 0.74872942 0.75991055 0.75462492 0.75401504 0.76174019\n",
      " 0.7737345  0.82008538 0.80585485 0.81154706 0.77434438 0.78633869\n",
      " 0.79284407 0.78328929 0.77109169 0.74385038 0.71193332 0.68733482\n",
      " 0.67818662 0.65257166 0.64301687 0.65643423 0.67656028 0.67371417\n",
      " 0.65114861 0.65521447 0.66761537 0.67838992 0.69993901 0.63122586\n",
      " 0.63508843 0.64098394 0.64545639 0.64118723 0.63854442 0.63081927\n",
      " 0.62472047 0.6330555  0.64728603 0.6574507  0.66761537 0.66720878\n",
      " 0.64159382 0.62776987 0.63651149 0.63630819 0.62980281 0.62817646\n",
      " 0.63813783 0.65358813 0.63183574 0.57653995 0.57816629 0.57613336\n",
      " 0.61943484 0.57979264 0.57288067 0.62573694 0.63102257 0.6361049\n",
      " 0.62776987 0.6269567  0.63590161 0.62594023 0.6391543  0.62614353\n",
      " 0.62268754 0.61428881 0.59919173 0.58350295 0.5692758  0.55672044\n",
      " 0.54584944 0.5364157  0.52814269 0.52087575 0.514467   0.50879949\n",
      " 0.50378549 0.49935403 0.49544072 0.49198315]\n",
      "15 day output [[0.48891774]]\n",
      "16 day input [0.74486684 0.76926205 0.75991055 0.74242732 0.73958122 0.74771295\n",
      " 0.75991055 0.7584875  0.76621264 0.75462492 0.76316324 0.79670665\n",
      " 0.80585485 0.7889815  0.78003659 0.73978451 0.73002643 0.73490547\n",
      " 0.74872942 0.75991055 0.75462492 0.75401504 0.76174019 0.7737345\n",
      " 0.82008538 0.80585485 0.81154706 0.77434438 0.78633869 0.79284407\n",
      " 0.78328929 0.77109169 0.74385038 0.71193332 0.68733482 0.67818662\n",
      " 0.65257166 0.64301687 0.65643423 0.67656028 0.67371417 0.65114861\n",
      " 0.65521447 0.66761537 0.67838992 0.69993901 0.63122586 0.63508843\n",
      " 0.64098394 0.64545639 0.64118723 0.63854442 0.63081927 0.62472047\n",
      " 0.6330555  0.64728603 0.6574507  0.66761537 0.66720878 0.64159382\n",
      " 0.62776987 0.63651149 0.63630819 0.62980281 0.62817646 0.63813783\n",
      " 0.65358813 0.63183574 0.57653995 0.57816629 0.57613336 0.61943484\n",
      " 0.57979264 0.57288067 0.62573694 0.63102257 0.6361049  0.62776987\n",
      " 0.6269567  0.63590161 0.62594023 0.6391543  0.62614353 0.62268754\n",
      " 0.61428881 0.59919173 0.58350295 0.5692758  0.55672044 0.54584944\n",
      " 0.5364157  0.52814269 0.52087575 0.514467   0.50879949 0.50378549\n",
      " 0.49935403 0.49544072 0.49198315 0.48891774]\n",
      "16 day output [[0.48618114]]\n",
      "17 day input [0.76926205 0.75991055 0.74242732 0.73958122 0.74771295 0.75991055\n",
      " 0.7584875  0.76621264 0.75462492 0.76316324 0.79670665 0.80585485\n",
      " 0.7889815  0.78003659 0.73978451 0.73002643 0.73490547 0.74872942\n",
      " 0.75991055 0.75462492 0.75401504 0.76174019 0.7737345  0.82008538\n",
      " 0.80585485 0.81154706 0.77434438 0.78633869 0.79284407 0.78328929\n",
      " 0.77109169 0.74385038 0.71193332 0.68733482 0.67818662 0.65257166\n",
      " 0.64301687 0.65643423 0.67656028 0.67371417 0.65114861 0.65521447\n",
      " 0.66761537 0.67838992 0.69993901 0.63122586 0.63508843 0.64098394\n",
      " 0.64545639 0.64118723 0.63854442 0.63081927 0.62472047 0.6330555\n",
      " 0.64728603 0.6574507  0.66761537 0.66720878 0.64159382 0.62776987\n",
      " 0.63651149 0.63630819 0.62980281 0.62817646 0.63813783 0.65358813\n",
      " 0.63183574 0.57653995 0.57816629 0.57613336 0.61943484 0.57979264\n",
      " 0.57288067 0.62573694 0.63102257 0.6361049  0.62776987 0.6269567\n",
      " 0.63590161 0.62594023 0.6391543  0.62614353 0.62268754 0.61428881\n",
      " 0.59919173 0.58350295 0.5692758  0.55672044 0.54584944 0.5364157\n",
      " 0.52814269 0.52087575 0.514467   0.50879949 0.50378549 0.49935403\n",
      " 0.49544072 0.49198315 0.48891774 0.48618114]\n",
      "17 day output [[0.48371214]]\n",
      "18 day input [0.75991055 0.74242732 0.73958122 0.74771295 0.75991055 0.7584875\n",
      " 0.76621264 0.75462492 0.76316324 0.79670665 0.80585485 0.7889815\n",
      " 0.78003659 0.73978451 0.73002643 0.73490547 0.74872942 0.75991055\n",
      " 0.75462492 0.75401504 0.76174019 0.7737345  0.82008538 0.80585485\n",
      " 0.81154706 0.77434438 0.78633869 0.79284407 0.78328929 0.77109169\n",
      " 0.74385038 0.71193332 0.68733482 0.67818662 0.65257166 0.64301687\n",
      " 0.65643423 0.67656028 0.67371417 0.65114861 0.65521447 0.66761537\n",
      " 0.67838992 0.69993901 0.63122586 0.63508843 0.64098394 0.64545639\n",
      " 0.64118723 0.63854442 0.63081927 0.62472047 0.6330555  0.64728603\n",
      " 0.6574507  0.66761537 0.66720878 0.64159382 0.62776987 0.63651149\n",
      " 0.63630819 0.62980281 0.62817646 0.63813783 0.65358813 0.63183574\n",
      " 0.57653995 0.57816629 0.57613336 0.61943484 0.57979264 0.57288067\n",
      " 0.62573694 0.63102257 0.6361049  0.62776987 0.6269567  0.63590161\n",
      " 0.62594023 0.6391543  0.62614353 0.62268754 0.61428881 0.59919173\n",
      " 0.58350295 0.5692758  0.55672044 0.54584944 0.5364157  0.52814269\n",
      " 0.52087575 0.514467   0.50879949 0.50378549 0.49935403 0.49544072\n",
      " 0.49198315 0.48891774 0.48618114 0.48371214]\n",
      "18 day output [[0.4814534]]\n",
      "19 day input [0.74242732 0.73958122 0.74771295 0.75991055 0.7584875  0.76621264\n",
      " 0.75462492 0.76316324 0.79670665 0.80585485 0.7889815  0.78003659\n",
      " 0.73978451 0.73002643 0.73490547 0.74872942 0.75991055 0.75462492\n",
      " 0.75401504 0.76174019 0.7737345  0.82008538 0.80585485 0.81154706\n",
      " 0.77434438 0.78633869 0.79284407 0.78328929 0.77109169 0.74385038\n",
      " 0.71193332 0.68733482 0.67818662 0.65257166 0.64301687 0.65643423\n",
      " 0.67656028 0.67371417 0.65114861 0.65521447 0.66761537 0.67838992\n",
      " 0.69993901 0.63122586 0.63508843 0.64098394 0.64545639 0.64118723\n",
      " 0.63854442 0.63081927 0.62472047 0.6330555  0.64728603 0.6574507\n",
      " 0.66761537 0.66720878 0.64159382 0.62776987 0.63651149 0.63630819\n",
      " 0.62980281 0.62817646 0.63813783 0.65358813 0.63183574 0.57653995\n",
      " 0.57816629 0.57613336 0.61943484 0.57979264 0.57288067 0.62573694\n",
      " 0.63102257 0.6361049  0.62776987 0.6269567  0.63590161 0.62594023\n",
      " 0.6391543  0.62614353 0.62268754 0.61428881 0.59919173 0.58350295\n",
      " 0.5692758  0.55672044 0.54584944 0.5364157  0.52814269 0.52087575\n",
      " 0.514467   0.50879949 0.50378549 0.49935403 0.49544072 0.49198315\n",
      " 0.48891774 0.48618114 0.48371214 0.48145339]\n",
      "19 day output [[0.4793533]]\n",
      "20 day input [0.73958122 0.74771295 0.75991055 0.7584875  0.76621264 0.75462492\n",
      " 0.76316324 0.79670665 0.80585485 0.7889815  0.78003659 0.73978451\n",
      " 0.73002643 0.73490547 0.74872942 0.75991055 0.75462492 0.75401504\n",
      " 0.76174019 0.7737345  0.82008538 0.80585485 0.81154706 0.77434438\n",
      " 0.78633869 0.79284407 0.78328929 0.77109169 0.74385038 0.71193332\n",
      " 0.68733482 0.67818662 0.65257166 0.64301687 0.65643423 0.67656028\n",
      " 0.67371417 0.65114861 0.65521447 0.66761537 0.67838992 0.69993901\n",
      " 0.63122586 0.63508843 0.64098394 0.64545639 0.64118723 0.63854442\n",
      " 0.63081927 0.62472047 0.6330555  0.64728603 0.6574507  0.66761537\n",
      " 0.66720878 0.64159382 0.62776987 0.63651149 0.63630819 0.62980281\n",
      " 0.62817646 0.63813783 0.65358813 0.63183574 0.57653995 0.57816629\n",
      " 0.57613336 0.61943484 0.57979264 0.57288067 0.62573694 0.63102257\n",
      " 0.6361049  0.62776987 0.6269567  0.63590161 0.62594023 0.6391543\n",
      " 0.62614353 0.62268754 0.61428881 0.59919173 0.58350295 0.5692758\n",
      " 0.55672044 0.54584944 0.5364157  0.52814269 0.52087575 0.514467\n",
      " 0.50879949 0.50378549 0.49935403 0.49544072 0.49198315 0.48891774\n",
      " 0.48618114 0.48371214 0.48145339 0.47935331]\n",
      "20 day output [[0.4773676]]\n",
      "21 day input [0.74771295 0.75991055 0.7584875  0.76621264 0.75462492 0.76316324\n",
      " 0.79670665 0.80585485 0.7889815  0.78003659 0.73978451 0.73002643\n",
      " 0.73490547 0.74872942 0.75991055 0.75462492 0.75401504 0.76174019\n",
      " 0.7737345  0.82008538 0.80585485 0.81154706 0.77434438 0.78633869\n",
      " 0.79284407 0.78328929 0.77109169 0.74385038 0.71193332 0.68733482\n",
      " 0.67818662 0.65257166 0.64301687 0.65643423 0.67656028 0.67371417\n",
      " 0.65114861 0.65521447 0.66761537 0.67838992 0.69993901 0.63122586\n",
      " 0.63508843 0.64098394 0.64545639 0.64118723 0.63854442 0.63081927\n",
      " 0.62472047 0.6330555  0.64728603 0.6574507  0.66761537 0.66720878\n",
      " 0.64159382 0.62776987 0.63651149 0.63630819 0.62980281 0.62817646\n",
      " 0.63813783 0.65358813 0.63183574 0.57653995 0.57816629 0.57613336\n",
      " 0.61943484 0.57979264 0.57288067 0.62573694 0.63102257 0.6361049\n",
      " 0.62776987 0.6269567  0.63590161 0.62594023 0.6391543  0.62614353\n",
      " 0.62268754 0.61428881 0.59919173 0.58350295 0.5692758  0.55672044\n",
      " 0.54584944 0.5364157  0.52814269 0.52087575 0.514467   0.50879949\n",
      " 0.50378549 0.49935403 0.49544072 0.49198315 0.48891774 0.48618114\n",
      " 0.48371214 0.48145339 0.47935331 0.47736761]\n",
      "21 day output [[0.47545978]]\n",
      "22 day input [0.75991055 0.7584875  0.76621264 0.75462492 0.76316324 0.79670665\n",
      " 0.80585485 0.7889815  0.78003659 0.73978451 0.73002643 0.73490547\n",
      " 0.74872942 0.75991055 0.75462492 0.75401504 0.76174019 0.7737345\n",
      " 0.82008538 0.80585485 0.81154706 0.77434438 0.78633869 0.79284407\n",
      " 0.78328929 0.77109169 0.74385038 0.71193332 0.68733482 0.67818662\n",
      " 0.65257166 0.64301687 0.65643423 0.67656028 0.67371417 0.65114861\n",
      " 0.65521447 0.66761537 0.67838992 0.69993901 0.63122586 0.63508843\n",
      " 0.64098394 0.64545639 0.64118723 0.63854442 0.63081927 0.62472047\n",
      " 0.6330555  0.64728603 0.6574507  0.66761537 0.66720878 0.64159382\n",
      " 0.62776987 0.63651149 0.63630819 0.62980281 0.62817646 0.63813783\n",
      " 0.65358813 0.63183574 0.57653995 0.57816629 0.57613336 0.61943484\n",
      " 0.57979264 0.57288067 0.62573694 0.63102257 0.6361049  0.62776987\n",
      " 0.6269567  0.63590161 0.62594023 0.6391543  0.62614353 0.62268754\n",
      " 0.61428881 0.59919173 0.58350295 0.5692758  0.55672044 0.54584944\n",
      " 0.5364157  0.52814269 0.52087575 0.514467   0.50879949 0.50378549\n",
      " 0.49935403 0.49544072 0.49198315 0.48891774 0.48618114 0.48371214\n",
      " 0.48145339 0.47935331 0.47736761 0.47545978]\n",
      "22 day output [[0.47360042]]\n",
      "23 day input [0.7584875  0.76621264 0.75462492 0.76316324 0.79670665 0.80585485\n",
      " 0.7889815  0.78003659 0.73978451 0.73002643 0.73490547 0.74872942\n",
      " 0.75991055 0.75462492 0.75401504 0.76174019 0.7737345  0.82008538\n",
      " 0.80585485 0.81154706 0.77434438 0.78633869 0.79284407 0.78328929\n",
      " 0.77109169 0.74385038 0.71193332 0.68733482 0.67818662 0.65257166\n",
      " 0.64301687 0.65643423 0.67656028 0.67371417 0.65114861 0.65521447\n",
      " 0.66761537 0.67838992 0.69993901 0.63122586 0.63508843 0.64098394\n",
      " 0.64545639 0.64118723 0.63854442 0.63081927 0.62472047 0.6330555\n",
      " 0.64728603 0.6574507  0.66761537 0.66720878 0.64159382 0.62776987\n",
      " 0.63651149 0.63630819 0.62980281 0.62817646 0.63813783 0.65358813\n",
      " 0.63183574 0.57653995 0.57816629 0.57613336 0.61943484 0.57979264\n",
      " 0.57288067 0.62573694 0.63102257 0.6361049  0.62776987 0.6269567\n",
      " 0.63590161 0.62594023 0.6391543  0.62614353 0.62268754 0.61428881\n",
      " 0.59919173 0.58350295 0.5692758  0.55672044 0.54584944 0.5364157\n",
      " 0.52814269 0.52087575 0.514467   0.50879949 0.50378549 0.49935403\n",
      " 0.49544072 0.49198315 0.48891774 0.48618114 0.48371214 0.48145339\n",
      " 0.47935331 0.47736761 0.47545978 0.47360042]\n",
      "23 day output [[0.47176805]]\n",
      "24 day input [0.76621264 0.75462492 0.76316324 0.79670665 0.80585485 0.7889815\n",
      " 0.78003659 0.73978451 0.73002643 0.73490547 0.74872942 0.75991055\n",
      " 0.75462492 0.75401504 0.76174019 0.7737345  0.82008538 0.80585485\n",
      " 0.81154706 0.77434438 0.78633869 0.79284407 0.78328929 0.77109169\n",
      " 0.74385038 0.71193332 0.68733482 0.67818662 0.65257166 0.64301687\n",
      " 0.65643423 0.67656028 0.67371417 0.65114861 0.65521447 0.66761537\n",
      " 0.67838992 0.69993901 0.63122586 0.63508843 0.64098394 0.64545639\n",
      " 0.64118723 0.63854442 0.63081927 0.62472047 0.6330555  0.64728603\n",
      " 0.6574507  0.66761537 0.66720878 0.64159382 0.62776987 0.63651149\n",
      " 0.63630819 0.62980281 0.62817646 0.63813783 0.65358813 0.63183574\n",
      " 0.57653995 0.57816629 0.57613336 0.61943484 0.57979264 0.57288067\n",
      " 0.62573694 0.63102257 0.6361049  0.62776987 0.6269567  0.63590161\n",
      " 0.62594023 0.6391543  0.62614353 0.62268754 0.61428881 0.59919173\n",
      " 0.58350295 0.5692758  0.55672044 0.54584944 0.5364157  0.52814269\n",
      " 0.52087575 0.514467   0.50879949 0.50378549 0.49935403 0.49544072\n",
      " 0.49198315 0.48891774 0.48618114 0.48371214 0.48145339 0.47935331\n",
      " 0.47736761 0.47545978 0.47360042 0.47176805]\n",
      "24 day output [[0.46994653]]\n",
      "25 day input [0.75462492 0.76316324 0.79670665 0.80585485 0.7889815  0.78003659\n",
      " 0.73978451 0.73002643 0.73490547 0.74872942 0.75991055 0.75462492\n",
      " 0.75401504 0.76174019 0.7737345  0.82008538 0.80585485 0.81154706\n",
      " 0.77434438 0.78633869 0.79284407 0.78328929 0.77109169 0.74385038\n",
      " 0.71193332 0.68733482 0.67818662 0.65257166 0.64301687 0.65643423\n",
      " 0.67656028 0.67371417 0.65114861 0.65521447 0.66761537 0.67838992\n",
      " 0.69993901 0.63122586 0.63508843 0.64098394 0.64545639 0.64118723\n",
      " 0.63854442 0.63081927 0.62472047 0.6330555  0.64728603 0.6574507\n",
      " 0.66761537 0.66720878 0.64159382 0.62776987 0.63651149 0.63630819\n",
      " 0.62980281 0.62817646 0.63813783 0.65358813 0.63183574 0.57653995\n",
      " 0.57816629 0.57613336 0.61943484 0.57979264 0.57288067 0.62573694\n",
      " 0.63102257 0.6361049  0.62776987 0.6269567  0.63590161 0.62594023\n",
      " 0.6391543  0.62614353 0.62268754 0.61428881 0.59919173 0.58350295\n",
      " 0.5692758  0.55672044 0.54584944 0.5364157  0.52814269 0.52087575\n",
      " 0.514467   0.50879949 0.50378549 0.49935403 0.49544072 0.49198315\n",
      " 0.48891774 0.48618114 0.48371214 0.48145339 0.47935331 0.47736761\n",
      " 0.47545978 0.47360042 0.47176805 0.46994653]\n",
      "25 day output [[0.46812567]]\n",
      "26 day input [0.76316324 0.79670665 0.80585485 0.7889815  0.78003659 0.73978451\n",
      " 0.73002643 0.73490547 0.74872942 0.75991055 0.75462492 0.75401504\n",
      " 0.76174019 0.7737345  0.82008538 0.80585485 0.81154706 0.77434438\n",
      " 0.78633869 0.79284407 0.78328929 0.77109169 0.74385038 0.71193332\n",
      " 0.68733482 0.67818662 0.65257166 0.64301687 0.65643423 0.67656028\n",
      " 0.67371417 0.65114861 0.65521447 0.66761537 0.67838992 0.69993901\n",
      " 0.63122586 0.63508843 0.64098394 0.64545639 0.64118723 0.63854442\n",
      " 0.63081927 0.62472047 0.6330555  0.64728603 0.6574507  0.66761537\n",
      " 0.66720878 0.64159382 0.62776987 0.63651149 0.63630819 0.62980281\n",
      " 0.62817646 0.63813783 0.65358813 0.63183574 0.57653995 0.57816629\n",
      " 0.57613336 0.61943484 0.57979264 0.57288067 0.62573694 0.63102257\n",
      " 0.6361049  0.62776987 0.6269567  0.63590161 0.62594023 0.6391543\n",
      " 0.62614353 0.62268754 0.61428881 0.59919173 0.58350295 0.5692758\n",
      " 0.55672044 0.54584944 0.5364157  0.52814269 0.52087575 0.514467\n",
      " 0.50879949 0.50378549 0.49935403 0.49544072 0.49198315 0.48891774\n",
      " 0.48618114 0.48371214 0.48145339 0.47935331 0.47736761 0.47545978\n",
      " 0.47360042 0.47176805 0.46994653 0.46812567]\n",
      "26 day output [[0.4662995]]\n",
      "27 day input [0.79670665 0.80585485 0.7889815  0.78003659 0.73978451 0.73002643\n",
      " 0.73490547 0.74872942 0.75991055 0.75462492 0.75401504 0.76174019\n",
      " 0.7737345  0.82008538 0.80585485 0.81154706 0.77434438 0.78633869\n",
      " 0.79284407 0.78328929 0.77109169 0.74385038 0.71193332 0.68733482\n",
      " 0.67818662 0.65257166 0.64301687 0.65643423 0.67656028 0.67371417\n",
      " 0.65114861 0.65521447 0.66761537 0.67838992 0.69993901 0.63122586\n",
      " 0.63508843 0.64098394 0.64545639 0.64118723 0.63854442 0.63081927\n",
      " 0.62472047 0.6330555  0.64728603 0.6574507  0.66761537 0.66720878\n",
      " 0.64159382 0.62776987 0.63651149 0.63630819 0.62980281 0.62817646\n",
      " 0.63813783 0.65358813 0.63183574 0.57653995 0.57816629 0.57613336\n",
      " 0.61943484 0.57979264 0.57288067 0.62573694 0.63102257 0.6361049\n",
      " 0.62776987 0.6269567  0.63590161 0.62594023 0.6391543  0.62614353\n",
      " 0.62268754 0.61428881 0.59919173 0.58350295 0.5692758  0.55672044\n",
      " 0.54584944 0.5364157  0.52814269 0.52087575 0.514467   0.50879949\n",
      " 0.50378549 0.49935403 0.49544072 0.49198315 0.48891774 0.48618114\n",
      " 0.48371214 0.48145339 0.47935331 0.47736761 0.47545978 0.47360042\n",
      " 0.47176805 0.46994653 0.46812567 0.4662995 ]\n",
      "27 day output [[0.46446568]]\n",
      "[[0.6142888069152832], [0.5991917252540588], [0.5835029482841492], [0.5692757964134216], [0.5567204356193542], [0.5458494424819946], [0.536415696144104], [0.5281426906585693], [0.5208757519721985], [0.5144670009613037], [0.5087994933128357], [0.5037854909896851], [0.4993540346622467], [0.4954407215118408], [0.4919831454753876], [0.488917738199234], [0.4861811399459839], [0.4837121367454529], [0.48145338892936707], [0.47935330867767334], [0.4773676097393036], [0.4754597842693329], [0.4736004173755646], [0.4717680513858795], [0.4699465334415436], [0.46812567114830017], [0.46629950404167175], [0.4644656777381897]]\n"
     ]
    }
   ],
   "source": [
    "temp_input = list(x_input)\n",
    "temp_input = temp_input[0].tolist()\n",
    "\n",
    "lst_output=[]\n",
    "n_steps=100\n",
    "nextNumberOfDays = 28\n",
    "i=0\n",
    "\n",
    "while(i<nextNumberOfDays):\n",
    "    \n",
    "    if(len(temp_input)>100):\n",
    "        x_input=np.array(temp_input[1:])\n",
    "        print(\"{} day input {}\".format(i,x_input))\n",
    "        x_input=x_input.reshape(1,-1)\n",
    "        x_input = x_input.reshape((1, n_steps, 1))\n",
    "        yhat = model.predict(x_input, verbose=0)\n",
    "        print(\"{} day output {}\".format(i,yhat))\n",
    "        temp_input.extend(yhat[0].tolist())\n",
    "        temp_input=temp_input[1:]\n",
    "        lst_output.extend(yhat.tolist())\n",
    "        i=i+1\n",
    "    else:\n",
    "        x_input = x_input.reshape((1, n_steps,1))\n",
    "        yhat = model.predict(x_input, verbose=0)\n",
    "        print(yhat[0])\n",
    "        temp_input.extend(yhat[0].tolist())\n",
    "        print(len(temp_input))\n",
    "        lst_output.extend(yhat.tolist())\n",
    "        i=i+1\n",
    "    \n",
    "print(lst_output)"
   ]
  },
  {
   "cell_type": "code",
   "execution_count": 35,
   "metadata": {
    "execution": {
     "iopub.execute_input": "2023-02-21T08:34:42.498316Z",
     "iopub.status.busy": "2023-02-21T08:34:42.497918Z",
     "iopub.status.idle": "2023-02-21T08:34:42.502677Z",
     "shell.execute_reply": "2023-02-21T08:34:42.501747Z",
     "shell.execute_reply.started": "2023-02-21T08:34:42.498277Z"
    }
   },
   "outputs": [],
   "source": [
    "day_new = np.arange(1,101)\n",
    "day_pred = np.arange(101,129)"
   ]
  },
  {
   "cell_type": "code",
   "execution_count": 36,
   "metadata": {
    "execution": {
     "iopub.execute_input": "2023-02-21T08:34:42.504369Z",
     "iopub.status.busy": "2023-02-21T08:34:42.503982Z",
     "iopub.status.idle": "2023-02-21T08:34:42.516281Z",
     "shell.execute_reply": "2023-02-21T08:34:42.515442Z",
     "shell.execute_reply.started": "2023-02-21T08:34:42.504328Z"
    }
   },
   "outputs": [
    {
     "data": {
      "text/plain": [
       "(100,)"
      ]
     },
     "execution_count": 36,
     "metadata": {},
     "output_type": "execute_result"
    }
   ],
   "source": [
    "day_new.shape"
   ]
  },
  {
   "cell_type": "code",
   "execution_count": 37,
   "metadata": {
    "execution": {
     "iopub.execute_input": "2023-02-21T08:34:42.518777Z",
     "iopub.status.busy": "2023-02-21T08:34:42.518475Z",
     "iopub.status.idle": "2023-02-21T08:34:42.525493Z",
     "shell.execute_reply": "2023-02-21T08:34:42.524467Z",
     "shell.execute_reply.started": "2023-02-21T08:34:42.518737Z"
    }
   },
   "outputs": [
    {
     "data": {
      "text/plain": [
       "(28,)"
      ]
     },
     "execution_count": 37,
     "metadata": {},
     "output_type": "execute_result"
    }
   ],
   "source": [
    "day_pred.shape"
   ]
  },
  {
   "cell_type": "code",
   "execution_count": 38,
   "metadata": {
    "execution": {
     "iopub.execute_input": "2023-02-21T08:34:42.528758Z",
     "iopub.status.busy": "2023-02-21T08:34:42.528382Z",
     "iopub.status.idle": "2023-02-21T08:34:42.536597Z",
     "shell.execute_reply": "2023-02-21T08:34:42.535848Z",
     "shell.execute_reply.started": "2023-02-21T08:34:42.528729Z"
    }
   },
   "outputs": [
    {
     "data": {
      "text/plain": [
       "2035"
      ]
     },
     "execution_count": 38,
     "metadata": {},
     "output_type": "execute_result"
    }
   ],
   "source": [
    "len(df_high)"
   ]
  },
  {
   "cell_type": "code",
   "execution_count": 39,
   "metadata": {
    "execution": {
     "iopub.execute_input": "2023-02-21T08:34:42.538861Z",
     "iopub.status.busy": "2023-02-21T08:34:42.537913Z",
     "iopub.status.idle": "2023-02-21T08:34:42.699059Z",
     "shell.execute_reply": "2023-02-21T08:34:42.698209Z",
     "shell.execute_reply.started": "2023-02-21T08:34:42.538806Z"
    }
   },
   "outputs": [
    {
     "data": {
      "text/plain": [
       "[<matplotlib.lines.Line2D at 0x1f4edead2b0>]"
      ]
     },
     "execution_count": 39,
     "metadata": {},
     "output_type": "execute_result"
    },
    {
     "data": {
      "image/png": "[encoded data removed]",
      "text/plain": [
       "<Figure size 432x288 with 1 Axes>"
      ]
     },
     "metadata": {
      "needs_background": "light"
     },
     "output_type": "display_data"
    }
   ],
   "source": [
    "plt.plot(day_new, scaler.inverse_transform(df_high[1935:]))\n",
    "plt.plot(day_pred, scaler.inverse_transform(lst_output))"
   ]
  },
  {
   "cell_type": "code",
   "execution_count": 40,
   "metadata": {
    "execution": {
     "iopub.execute_input": "2023-02-21T08:34:42.701325Z",
     "iopub.status.busy": "2023-02-21T08:34:42.700467Z",
     "iopub.status.idle": "2023-02-21T08:34:42.858791Z",
     "shell.execute_reply": "2023-02-21T08:34:42.857825Z",
     "shell.execute_reply.started": "2023-02-21T08:34:42.701280Z"
    }
   },
   "outputs": [
    {
     "data": {
      "text/plain": [
       "[<matplotlib.lines.Line2D at 0x1f4edf3a1c0>]"
      ]
     },
     "execution_count": 40,
     "metadata": {},
     "output_type": "execute_result"
    },
    {
     "data": {
      "image/png": "[encoded data removed]",
      "text/plain": [
       "<Figure size 432x288 with 1 Axes>"
      ]
     },
     "metadata": {
      "needs_background": "light"
     },
     "output_type": "display_data"
    }
   ],
   "source": [
    "data_new = df_high.tolist()\n",
    "data_new.extend(lst_output)\n",
    "plt.plot(data_new[2000:])"
   ]
  },
  {
   "cell_type": "code",
   "execution_count": 41,
   "metadata": {
    "execution": {
     "iopub.execute_input": "2023-02-21T08:34:42.860693Z",
     "iopub.status.busy": "2023-02-21T08:34:42.860401Z",
     "iopub.status.idle": "2023-02-21T08:34:42.868547Z",
     "shell.execute_reply": "2023-02-21T08:34:42.867755Z",
     "shell.execute_reply.started": "2023-02-21T08:34:42.860652Z"
    }
   },
   "outputs": [],
   "source": [
    "data_new =scaler.inverse_transform(data_new).tolist()"
   ]
  },
  {
   "cell_type": "code",
   "execution_count": 42,
   "metadata": {
    "execution": {
     "iopub.execute_input": "2023-02-21T08:34:42.869914Z",
     "iopub.status.busy": "2023-02-21T08:34:42.869672Z",
     "iopub.status.idle": "2023-02-21T08:34:43.059584Z",
     "shell.execute_reply": "2023-02-21T08:34:43.058957Z",
     "shell.execute_reply.started": "2023-02-21T08:34:42.869867Z"
    }
   },
   "outputs": [
    {
     "data": {
      "text/plain": [
       "[<matplotlib.lines.Line2D at 0x1f4de609670>]"
      ]
     },
     "execution_count": 42,
     "metadata": {},
     "output_type": "execute_result"
    },
    {
     "data": {
      "image/png": "[encoded data removed]",
      "text/plain": [
       "<Figure size 432x288 with 1 Axes>"
      ]
     },
     "metadata": {
      "needs_background": "light"
     },
     "output_type": "display_data"
    }
   ],
   "source": [
    "plt.plot(data_new)"
   ]
  },
  {
   "cell_type": "code",
   "execution_count": null,
   "metadata": {},
   "outputs": [],
   "source": []
  }
 ],
 "metadata": {
  "kernelspec": {
   "display_name": "Python 3",
   "language": "python",
   "name": "python3"
  },
  "language_info": {
   "codemirror_mode": {
    "name": "ipython",
    "version": 3
   },
   "file_extension": ".py",
   "mimetype": "text/x-python",
   "name": "python",
   "nbconvert_exporter": "python",
   "pygments_lexer": "ipython3",
   "version": "3.8.8"
  }
 },
 "nbformat": 4,
 "nbformat_minor": 4
}
